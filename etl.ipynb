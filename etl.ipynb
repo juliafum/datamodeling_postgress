{
 "cells": [
  {
   "cell_type": "markdown",
   "metadata": {},
   "source": [
    "# ETL Processes\n",
    "Use this notebook to develop the ETL process for each of your tables before completing the `etl.py` file to load the whole datasets."
   ]
  },
  {
   "cell_type": "code",
   "execution_count": 1,
   "metadata": {
    "ExecuteTime": {
     "end_time": "2021-01-31T18:52:08.682514Z",
     "start_time": "2021-01-31T18:52:08.375177Z"
    }
   },
   "outputs": [],
   "source": [
    "import os\n",
    "import glob\n",
    "import psycopg2\n",
    "import pandas as pd\n",
    "from sql_queries import *"
   ]
  },
  {
   "cell_type": "code",
   "execution_count": 2,
   "metadata": {
    "ExecuteTime": {
     "end_time": "2021-01-31T18:52:08.888613Z",
     "start_time": "2021-01-31T18:52:08.867413Z"
    }
   },
   "outputs": [],
   "source": [
    "conn = psycopg2.connect(\"host=127.0.0.1 dbname=sparkifydb\")\n",
    "cur = conn.cursor()"
   ]
  },
  {
   "cell_type": "code",
   "execution_count": 3,
   "metadata": {
    "ExecuteTime": {
     "end_time": "2021-01-31T18:52:09.051481Z",
     "start_time": "2021-01-31T18:52:09.048395Z"
    }
   },
   "outputs": [],
   "source": [
    " conn.set_session(autocommit=True)"
   ]
  },
  {
   "cell_type": "code",
   "execution_count": 4,
   "metadata": {
    "ExecuteTime": {
     "end_time": "2021-01-31T18:52:09.217409Z",
     "start_time": "2021-01-31T18:52:09.209434Z"
    }
   },
   "outputs": [],
   "source": [
    "def get_files(filepath):\n",
    "    all_files = []\n",
    "    \n",
    "    for root, dirs, files in os.walk(filepath):\n",
    "        files = glob.glob(os.path.join(root,'*.json'))\n",
    "        for f in files :\n",
    "            all_files.append(os.path.abspath(f))\n",
    "    \n",
    "    return all_files"
   ]
  },
  {
   "cell_type": "markdown",
   "metadata": {},
   "source": [
    "# Process `song_data`\n",
    "In this first part, you'll perform ETL on the first dataset, `song_data`, to create the `songs` and `artists` dimensional tables.\n",
    "\n",
    "Let's perform ETL on a single song file and load a single record into each table to start.\n",
    "- Use the `get_files` function provided above to get a list of all song JSON files in `data/song_data`\n",
    "- Select the first song in this list\n",
    "- Read the song file and view the data"
   ]
  },
  {
   "cell_type": "code",
   "execution_count": 5,
   "metadata": {
    "ExecuteTime": {
     "end_time": "2021-01-31T18:52:09.438186Z",
     "start_time": "2021-01-31T18:52:09.427522Z"
    }
   },
   "outputs": [],
   "source": [
    "song_files = get_files('data/song_data')"
   ]
  },
  {
   "cell_type": "code",
   "execution_count": 6,
   "metadata": {
    "ExecuteTime": {
     "end_time": "2021-01-31T18:52:09.671312Z",
     "start_time": "2021-01-31T18:52:09.656175Z"
    }
   },
   "outputs": [
    {
     "data": {
      "text/plain": [
       "'/Users/juliafumbarev/Documents/Python/dataengineer_udacity/data_modeling/assignment1/project-template/data/song_data/A/A/A/TRAAARJ128F9320760.json'"
      ]
     },
     "execution_count": 6,
     "metadata": {},
     "output_type": "execute_result"
    }
   ],
   "source": [
    "song_files[1]"
   ]
  },
  {
   "cell_type": "code",
   "execution_count": 7,
   "metadata": {
    "ExecuteTime": {
     "end_time": "2021-01-31T18:52:09.873670Z",
     "start_time": "2021-01-31T18:52:09.870167Z"
    }
   },
   "outputs": [],
   "source": [
    "filepath = song_files[1]"
   ]
  },
  {
   "cell_type": "code",
   "execution_count": 8,
   "metadata": {
    "ExecuteTime": {
     "end_time": "2021-01-31T18:52:10.068700Z",
     "start_time": "2021-01-31T18:52:10.049098Z"
    }
   },
   "outputs": [
    {
     "data": {
      "text/plain": [
       "num_songs                            1\n",
       "artist_id           AR8ZCNI1187B9A069B\n",
       "artist_latitude                   None\n",
       "artist_longitude                  None\n",
       "artist_location                       \n",
       "artist_name           Planet P Project\n",
       "song_id             SOIAZJW12AB01853F1\n",
       "title                       Pink World\n",
       "duration                     269.81832\n",
       "year                              1984\n",
       "dtype: object"
      ]
     },
     "execution_count": 8,
     "metadata": {},
     "output_type": "execute_result"
    }
   ],
   "source": [
    "df = pd.read_json(filepath, typ='series')\n",
    "df.head(20)"
   ]
  },
  {
   "cell_type": "markdown",
   "metadata": {},
   "source": [
    "## #1: `songs` Table\n",
    "#### Extract Data for Songs Table\n",
    "- Select columns for song ID, title, artist ID, year, and duration\n",
    "- Use `df.values` to select just the values from the dataframe\n",
    "- Index to select the first (only) record in the dataframe\n",
    "- Convert the array to a list and set it to `song_data`"
   ]
  },
  {
   "cell_type": "code",
   "execution_count": 9,
   "metadata": {
    "ExecuteTime": {
     "end_time": "2021-01-31T18:52:11.182290Z",
     "start_time": "2021-01-31T18:52:11.173136Z"
    }
   },
   "outputs": [
    {
     "data": {
      "text/plain": [
       "array(['SOIAZJW12AB01853F1', 'Pink World', 'AR8ZCNI1187B9A069B', 1984,\n",
       "       269.81832], dtype=object)"
      ]
     },
     "execution_count": 9,
     "metadata": {},
     "output_type": "execute_result"
    }
   ],
   "source": [
    "col = ['song_id','title','artist_id','year','duration']\n",
    "song_data = df[col].values\n",
    "song_data"
   ]
  },
  {
   "cell_type": "markdown",
   "metadata": {},
   "source": [
    "#### Insert Record into Song Table\n",
    "Implement the `song_table_insert` query in `sql_queries.py` and run the cell below to insert a record for this song into the `songs` table. Remember to run `create_tables.py` before running the cell below to ensure you've created/resetted the `songs` table in the sparkify database."
   ]
  },
  {
   "cell_type": "code",
   "execution_count": 10,
   "metadata": {
    "ExecuteTime": {
     "end_time": "2021-01-31T18:52:12.139024Z",
     "start_time": "2021-01-31T18:52:12.134010Z"
    }
   },
   "outputs": [],
   "source": [
    "cur.execute(song_table_insert, song_data)\n",
    "conn.commit()"
   ]
  },
  {
   "cell_type": "markdown",
   "metadata": {},
   "source": [
    "Run `test.ipynb` to see if you've successfully added a record to this table."
   ]
  },
  {
   "cell_type": "markdown",
   "metadata": {},
   "source": [
    "## #2: `artists` Table\n",
    "#### Extract Data for Artists Table\n",
    "- Select columns for artist ID, name, location, latitude, and longitude\n",
    "- Use `df.values` to select just the values from the dataframe\n",
    "- Index to select the first (only) record in the dataframe\n",
    "- Convert the array to a list and set it to `artist_data`"
   ]
  },
  {
   "cell_type": "code",
   "execution_count": 11,
   "metadata": {
    "ExecuteTime": {
     "end_time": "2021-01-31T18:52:13.034147Z",
     "start_time": "2021-01-31T18:52:13.026303Z"
    }
   },
   "outputs": [
    {
     "data": {
      "text/plain": [
       "array(['AR8ZCNI1187B9A069B', 'Planet P Project', '', None, None],\n",
       "      dtype=object)"
      ]
     },
     "execution_count": 11,
     "metadata": {},
     "output_type": "execute_result"
    }
   ],
   "source": [
    "col = ['artist_id', 'artist_name', 'artist_location', 'artist_latitude', 'artist_longitude']\n",
    "artist_data = df[col].values\n",
    "artist_data"
   ]
  },
  {
   "cell_type": "markdown",
   "metadata": {},
   "source": [
    "#### Insert Record into Artist Table\n",
    "Implement the `artist_table_insert` query in `sql_queries.py` and run the cell below to insert a record for this song's artist into the `artists` table. Remember to run `create_tables.py` before running the cell below to ensure you've created/resetted the `artists` table in the sparkify database."
   ]
  },
  {
   "cell_type": "code",
   "execution_count": 12,
   "metadata": {
    "ExecuteTime": {
     "end_time": "2021-01-31T18:52:13.510892Z",
     "start_time": "2021-01-31T18:52:13.502724Z"
    }
   },
   "outputs": [],
   "source": [
    "cur.execute(artist_table_insert, artist_data)\n",
    "conn.commit()"
   ]
  },
  {
   "cell_type": "markdown",
   "metadata": {},
   "source": [
    "Run `test.ipynb` to see if you've successfully added a record to this table."
   ]
  },
  {
   "cell_type": "markdown",
   "metadata": {},
   "source": [
    "# Process `log_data`\n",
    "In this part, you'll perform ETL on the second dataset, `log_data`, to create the `time` and `users` dimensional tables, as well as the `songplays` fact table.\n",
    "\n",
    "Let's perform ETL on a single log file and load a single record into each table.\n",
    "- Use the `get_files` function provided above to get a list of all log JSON files in `data/log_data`\n",
    "- Select the first log file in this list\n",
    "- Read the log file and view the data"
   ]
  },
  {
   "cell_type": "code",
   "execution_count": 13,
   "metadata": {
    "ExecuteTime": {
     "end_time": "2021-01-31T18:52:14.900956Z",
     "start_time": "2021-01-31T18:52:14.894725Z"
    }
   },
   "outputs": [],
   "source": [
    "log_files = get_files('data/log_data')"
   ]
  },
  {
   "cell_type": "code",
   "execution_count": 14,
   "metadata": {
    "ExecuteTime": {
     "end_time": "2021-01-31T18:52:15.473888Z",
     "start_time": "2021-01-31T18:52:15.470970Z"
    }
   },
   "outputs": [],
   "source": [
    "filepath = log_files[1]"
   ]
  },
  {
   "cell_type": "code",
   "execution_count": 15,
   "metadata": {
    "ExecuteTime": {
     "end_time": "2021-01-31T18:52:16.045025Z",
     "start_time": "2021-01-31T18:52:15.998075Z"
    }
   },
   "outputs": [
    {
     "data": {
      "text/html": [
       "<div>\n",
       "<style scoped>\n",
       "    .dataframe tbody tr th:only-of-type {\n",
       "        vertical-align: middle;\n",
       "    }\n",
       "\n",
       "    .dataframe tbody tr th {\n",
       "        vertical-align: top;\n",
       "    }\n",
       "\n",
       "    .dataframe thead th {\n",
       "        text-align: right;\n",
       "    }\n",
       "</style>\n",
       "<table border=\"1\" class=\"dataframe\">\n",
       "  <thead>\n",
       "    <tr style=\"text-align: right;\">\n",
       "      <th></th>\n",
       "      <th>artist</th>\n",
       "      <th>auth</th>\n",
       "      <th>firstName</th>\n",
       "      <th>gender</th>\n",
       "      <th>itemInSession</th>\n",
       "      <th>lastName</th>\n",
       "      <th>length</th>\n",
       "      <th>level</th>\n",
       "      <th>location</th>\n",
       "      <th>method</th>\n",
       "      <th>page</th>\n",
       "      <th>registration</th>\n",
       "      <th>sessionId</th>\n",
       "      <th>song</th>\n",
       "      <th>status</th>\n",
       "      <th>ts</th>\n",
       "      <th>userAgent</th>\n",
       "      <th>userId</th>\n",
       "    </tr>\n",
       "  </thead>\n",
       "  <tbody>\n",
       "    <tr>\n",
       "      <th>0</th>\n",
       "      <td>Great Lake Swimmers</td>\n",
       "      <td>Logged In</td>\n",
       "      <td>Kevin</td>\n",
       "      <td>M</td>\n",
       "      <td>0</td>\n",
       "      <td>Arellano</td>\n",
       "      <td>215.11791</td>\n",
       "      <td>free</td>\n",
       "      <td>Harrisburg-Carlisle, PA</td>\n",
       "      <td>PUT</td>\n",
       "      <td>NextSong</td>\n",
       "      <td>1.540007e+12</td>\n",
       "      <td>815</td>\n",
       "      <td>Your Rocky Spine</td>\n",
       "      <td>200</td>\n",
       "      <td>1542931645796</td>\n",
       "      <td>\"Mozilla/5.0 (Macintosh; Intel Mac OS X 10_9_4...</td>\n",
       "      <td>66</td>\n",
       "    </tr>\n",
       "    <tr>\n",
       "      <th>1</th>\n",
       "      <td>Soziedad Alkoholika</td>\n",
       "      <td>Logged In</td>\n",
       "      <td>Kevin</td>\n",
       "      <td>M</td>\n",
       "      <td>1</td>\n",
       "      <td>Arellano</td>\n",
       "      <td>204.74730</td>\n",
       "      <td>free</td>\n",
       "      <td>Harrisburg-Carlisle, PA</td>\n",
       "      <td>PUT</td>\n",
       "      <td>NextSong</td>\n",
       "      <td>1.540007e+12</td>\n",
       "      <td>815</td>\n",
       "      <td>Va Bien</td>\n",
       "      <td>200</td>\n",
       "      <td>1542931860796</td>\n",
       "      <td>\"Mozilla/5.0 (Macintosh; Intel Mac OS X 10_9_4...</td>\n",
       "      <td>66</td>\n",
       "    </tr>\n",
       "    <tr>\n",
       "      <th>2</th>\n",
       "      <td>Franz Ferdinand</td>\n",
       "      <td>Logged In</td>\n",
       "      <td>Kevin</td>\n",
       "      <td>M</td>\n",
       "      <td>2</td>\n",
       "      <td>Arellano</td>\n",
       "      <td>172.01587</td>\n",
       "      <td>free</td>\n",
       "      <td>Harrisburg-Carlisle, PA</td>\n",
       "      <td>PUT</td>\n",
       "      <td>NextSong</td>\n",
       "      <td>1.540007e+12</td>\n",
       "      <td>815</td>\n",
       "      <td>Eleanor Put Your Boots On</td>\n",
       "      <td>200</td>\n",
       "      <td>1542932064796</td>\n",
       "      <td>\"Mozilla/5.0 (Macintosh; Intel Mac OS X 10_9_4...</td>\n",
       "      <td>66</td>\n",
       "    </tr>\n",
       "    <tr>\n",
       "      <th>3</th>\n",
       "      <td>Modest Mouse</td>\n",
       "      <td>Logged In</td>\n",
       "      <td>Kevin</td>\n",
       "      <td>M</td>\n",
       "      <td>3</td>\n",
       "      <td>Arellano</td>\n",
       "      <td>209.52771</td>\n",
       "      <td>free</td>\n",
       "      <td>Harrisburg-Carlisle, PA</td>\n",
       "      <td>PUT</td>\n",
       "      <td>NextSong</td>\n",
       "      <td>1.540007e+12</td>\n",
       "      <td>815</td>\n",
       "      <td>Float On</td>\n",
       "      <td>200</td>\n",
       "      <td>1542932236796</td>\n",
       "      <td>\"Mozilla/5.0 (Macintosh; Intel Mac OS X 10_9_4...</td>\n",
       "      <td>66</td>\n",
       "    </tr>\n",
       "    <tr>\n",
       "      <th>4</th>\n",
       "      <td>Adam Lambert</td>\n",
       "      <td>Logged In</td>\n",
       "      <td>Kevin</td>\n",
       "      <td>M</td>\n",
       "      <td>4</td>\n",
       "      <td>Arellano</td>\n",
       "      <td>266.44853</td>\n",
       "      <td>free</td>\n",
       "      <td>Harrisburg-Carlisle, PA</td>\n",
       "      <td>PUT</td>\n",
       "      <td>NextSong</td>\n",
       "      <td>1.540007e+12</td>\n",
       "      <td>815</td>\n",
       "      <td>Aftermath</td>\n",
       "      <td>200</td>\n",
       "      <td>1542932445796</td>\n",
       "      <td>\"Mozilla/5.0 (Macintosh; Intel Mac OS X 10_9_4...</td>\n",
       "      <td>66</td>\n",
       "    </tr>\n",
       "    <tr>\n",
       "      <th>5</th>\n",
       "      <td>Parni Valjak</td>\n",
       "      <td>Logged In</td>\n",
       "      <td>Kevin</td>\n",
       "      <td>M</td>\n",
       "      <td>5</td>\n",
       "      <td>Arellano</td>\n",
       "      <td>259.83955</td>\n",
       "      <td>free</td>\n",
       "      <td>Harrisburg-Carlisle, PA</td>\n",
       "      <td>PUT</td>\n",
       "      <td>NextSong</td>\n",
       "      <td>1.540007e+12</td>\n",
       "      <td>815</td>\n",
       "      <td>Dok si pored mene</td>\n",
       "      <td>200</td>\n",
       "      <td>1542932711796</td>\n",
       "      <td>\"Mozilla/5.0 (Macintosh; Intel Mac OS X 10_9_4...</td>\n",
       "      <td>66</td>\n",
       "    </tr>\n",
       "    <tr>\n",
       "      <th>6</th>\n",
       "      <td>None</td>\n",
       "      <td>Logged In</td>\n",
       "      <td>Kevin</td>\n",
       "      <td>M</td>\n",
       "      <td>6</td>\n",
       "      <td>Arellano</td>\n",
       "      <td>NaN</td>\n",
       "      <td>free</td>\n",
       "      <td>Harrisburg-Carlisle, PA</td>\n",
       "      <td>GET</td>\n",
       "      <td>Home</td>\n",
       "      <td>1.540007e+12</td>\n",
       "      <td>815</td>\n",
       "      <td>None</td>\n",
       "      <td>200</td>\n",
       "      <td>1542932752796</td>\n",
       "      <td>\"Mozilla/5.0 (Macintosh; Intel Mac OS X 10_9_4...</td>\n",
       "      <td>66</td>\n",
       "    </tr>\n",
       "    <tr>\n",
       "      <th>7</th>\n",
       "      <td>Flaw</td>\n",
       "      <td>Logged In</td>\n",
       "      <td>Kevin</td>\n",
       "      <td>M</td>\n",
       "      <td>7</td>\n",
       "      <td>Arellano</td>\n",
       "      <td>265.89995</td>\n",
       "      <td>free</td>\n",
       "      <td>Harrisburg-Carlisle, PA</td>\n",
       "      <td>PUT</td>\n",
       "      <td>NextSong</td>\n",
       "      <td>1.540007e+12</td>\n",
       "      <td>815</td>\n",
       "      <td>Not Enough</td>\n",
       "      <td>200</td>\n",
       "      <td>1542932970796</td>\n",
       "      <td>\"Mozilla/5.0 (Macintosh; Intel Mac OS X 10_9_4...</td>\n",
       "      <td>66</td>\n",
       "    </tr>\n",
       "    <tr>\n",
       "      <th>8</th>\n",
       "      <td>Foo Fighters</td>\n",
       "      <td>Logged In</td>\n",
       "      <td>Kevin</td>\n",
       "      <td>M</td>\n",
       "      <td>8</td>\n",
       "      <td>Arellano</td>\n",
       "      <td>250.14812</td>\n",
       "      <td>free</td>\n",
       "      <td>Harrisburg-Carlisle, PA</td>\n",
       "      <td>PUT</td>\n",
       "      <td>NextSong</td>\n",
       "      <td>1.540007e+12</td>\n",
       "      <td>815</td>\n",
       "      <td>Everlong</td>\n",
       "      <td>200</td>\n",
       "      <td>1542933235796</td>\n",
       "      <td>\"Mozilla/5.0 (Macintosh; Intel Mac OS X 10_9_4...</td>\n",
       "      <td>66</td>\n",
       "    </tr>\n",
       "    <tr>\n",
       "      <th>9</th>\n",
       "      <td>ÃÂngeles del Infierno</td>\n",
       "      <td>Logged In</td>\n",
       "      <td>Kevin</td>\n",
       "      <td>M</td>\n",
       "      <td>9</td>\n",
       "      <td>Arellano</td>\n",
       "      <td>267.25832</td>\n",
       "      <td>free</td>\n",
       "      <td>Harrisburg-Carlisle, PA</td>\n",
       "      <td>PUT</td>\n",
       "      <td>NextSong</td>\n",
       "      <td>1.540007e+12</td>\n",
       "      <td>815</td>\n",
       "      <td>Si TÃÂº No EstÃÂ¡s AquÃÂ­</td>\n",
       "      <td>200</td>\n",
       "      <td>1542933485796</td>\n",
       "      <td>\"Mozilla/5.0 (Macintosh; Intel Mac OS X 10_9_4...</td>\n",
       "      <td>66</td>\n",
       "    </tr>\n",
       "  </tbody>\n",
       "</table>\n",
       "</div>"
      ],
      "text/plain": [
       "                    artist       auth firstName gender  itemInSession  \\\n",
       "0      Great Lake Swimmers  Logged In     Kevin      M              0   \n",
       "1      Soziedad Alkoholika  Logged In     Kevin      M              1   \n",
       "2          Franz Ferdinand  Logged In     Kevin      M              2   \n",
       "3             Modest Mouse  Logged In     Kevin      M              3   \n",
       "4             Adam Lambert  Logged In     Kevin      M              4   \n",
       "5             Parni Valjak  Logged In     Kevin      M              5   \n",
       "6                     None  Logged In     Kevin      M              6   \n",
       "7                     Flaw  Logged In     Kevin      M              7   \n",
       "8             Foo Fighters  Logged In     Kevin      M              8   \n",
       "9  ÃÂngeles del Infierno  Logged In     Kevin      M              9   \n",
       "\n",
       "   lastName     length level                 location method      page  \\\n",
       "0  Arellano  215.11791  free  Harrisburg-Carlisle, PA    PUT  NextSong   \n",
       "1  Arellano  204.74730  free  Harrisburg-Carlisle, PA    PUT  NextSong   \n",
       "2  Arellano  172.01587  free  Harrisburg-Carlisle, PA    PUT  NextSong   \n",
       "3  Arellano  209.52771  free  Harrisburg-Carlisle, PA    PUT  NextSong   \n",
       "4  Arellano  266.44853  free  Harrisburg-Carlisle, PA    PUT  NextSong   \n",
       "5  Arellano  259.83955  free  Harrisburg-Carlisle, PA    PUT  NextSong   \n",
       "6  Arellano        NaN  free  Harrisburg-Carlisle, PA    GET      Home   \n",
       "7  Arellano  265.89995  free  Harrisburg-Carlisle, PA    PUT  NextSong   \n",
       "8  Arellano  250.14812  free  Harrisburg-Carlisle, PA    PUT  NextSong   \n",
       "9  Arellano  267.25832  free  Harrisburg-Carlisle, PA    PUT  NextSong   \n",
       "\n",
       "   registration  sessionId                          song  status  \\\n",
       "0  1.540007e+12        815              Your Rocky Spine     200   \n",
       "1  1.540007e+12        815                       Va Bien     200   \n",
       "2  1.540007e+12        815     Eleanor Put Your Boots On     200   \n",
       "3  1.540007e+12        815                      Float On     200   \n",
       "4  1.540007e+12        815                     Aftermath     200   \n",
       "5  1.540007e+12        815             Dok si pored mene     200   \n",
       "6  1.540007e+12        815                          None     200   \n",
       "7  1.540007e+12        815                    Not Enough     200   \n",
       "8  1.540007e+12        815                      Everlong     200   \n",
       "9  1.540007e+12        815  Si TÃÂº No EstÃÂ¡s AquÃÂ­     200   \n",
       "\n",
       "              ts                                          userAgent userId  \n",
       "0  1542931645796  \"Mozilla/5.0 (Macintosh; Intel Mac OS X 10_9_4...     66  \n",
       "1  1542931860796  \"Mozilla/5.0 (Macintosh; Intel Mac OS X 10_9_4...     66  \n",
       "2  1542932064796  \"Mozilla/5.0 (Macintosh; Intel Mac OS X 10_9_4...     66  \n",
       "3  1542932236796  \"Mozilla/5.0 (Macintosh; Intel Mac OS X 10_9_4...     66  \n",
       "4  1542932445796  \"Mozilla/5.0 (Macintosh; Intel Mac OS X 10_9_4...     66  \n",
       "5  1542932711796  \"Mozilla/5.0 (Macintosh; Intel Mac OS X 10_9_4...     66  \n",
       "6  1542932752796  \"Mozilla/5.0 (Macintosh; Intel Mac OS X 10_9_4...     66  \n",
       "7  1542932970796  \"Mozilla/5.0 (Macintosh; Intel Mac OS X 10_9_4...     66  \n",
       "8  1542933235796  \"Mozilla/5.0 (Macintosh; Intel Mac OS X 10_9_4...     66  \n",
       "9  1542933485796  \"Mozilla/5.0 (Macintosh; Intel Mac OS X 10_9_4...     66  "
      ]
     },
     "execution_count": 15,
     "metadata": {},
     "output_type": "execute_result"
    }
   ],
   "source": [
    "df = pd.read_json(filepath, lines=True)\n",
    "df.head(10)"
   ]
  },
  {
   "cell_type": "markdown",
   "metadata": {},
   "source": [
    "## #3: `time` Table\n",
    "#### Extract Data for Time Table\n",
    "- Filter records by `NextSong` action\n",
    "- Convert the `ts` timestamp column to datetime\n",
    "  - Hint: the current timestamp is in milliseconds\n",
    "- Extract the timestamp, hour, day, week of year, month, year, and weekday from the `ts` column and set `time_data` to a list containing these values in order\n",
    "  - Hint: use pandas' [`dt` attribute](https://pandas.pydata.org/pandas-docs/stable/reference/api/pandas.Series.dt.html) to access easily datetimelike properties.\n",
    "- Specify labels for these columns and set to `column_labels`\n",
    "- Create a dataframe, `time_df,` containing the time data for this file by combining `column_labels` and `time_data` into a dictionary and converting this into a dataframe"
   ]
  },
  {
   "cell_type": "code",
   "execution_count": 16,
   "metadata": {
    "ExecuteTime": {
     "end_time": "2021-01-31T18:52:17.101710Z",
     "start_time": "2021-01-31T18:52:17.079630Z"
    }
   },
   "outputs": [
    {
     "data": {
      "text/html": [
       "<div>\n",
       "<style scoped>\n",
       "    .dataframe tbody tr th:only-of-type {\n",
       "        vertical-align: middle;\n",
       "    }\n",
       "\n",
       "    .dataframe tbody tr th {\n",
       "        vertical-align: top;\n",
       "    }\n",
       "\n",
       "    .dataframe thead th {\n",
       "        text-align: right;\n",
       "    }\n",
       "</style>\n",
       "<table border=\"1\" class=\"dataframe\">\n",
       "  <thead>\n",
       "    <tr style=\"text-align: right;\">\n",
       "      <th></th>\n",
       "      <th>artist</th>\n",
       "      <th>auth</th>\n",
       "      <th>firstName</th>\n",
       "      <th>gender</th>\n",
       "      <th>itemInSession</th>\n",
       "      <th>lastName</th>\n",
       "      <th>length</th>\n",
       "      <th>level</th>\n",
       "      <th>location</th>\n",
       "      <th>method</th>\n",
       "      <th>page</th>\n",
       "      <th>registration</th>\n",
       "      <th>sessionId</th>\n",
       "      <th>song</th>\n",
       "      <th>status</th>\n",
       "      <th>ts</th>\n",
       "      <th>userAgent</th>\n",
       "      <th>userId</th>\n",
       "    </tr>\n",
       "  </thead>\n",
       "  <tbody>\n",
       "    <tr>\n",
       "      <th>0</th>\n",
       "      <td>Great Lake Swimmers</td>\n",
       "      <td>Logged In</td>\n",
       "      <td>Kevin</td>\n",
       "      <td>M</td>\n",
       "      <td>0</td>\n",
       "      <td>Arellano</td>\n",
       "      <td>215.11791</td>\n",
       "      <td>free</td>\n",
       "      <td>Harrisburg-Carlisle, PA</td>\n",
       "      <td>PUT</td>\n",
       "      <td>NextSong</td>\n",
       "      <td>1.540007e+12</td>\n",
       "      <td>815</td>\n",
       "      <td>Your Rocky Spine</td>\n",
       "      <td>200</td>\n",
       "      <td>1542931645796</td>\n",
       "      <td>\"Mozilla/5.0 (Macintosh; Intel Mac OS X 10_9_4...</td>\n",
       "      <td>66</td>\n",
       "    </tr>\n",
       "    <tr>\n",
       "      <th>1</th>\n",
       "      <td>Soziedad Alkoholika</td>\n",
       "      <td>Logged In</td>\n",
       "      <td>Kevin</td>\n",
       "      <td>M</td>\n",
       "      <td>1</td>\n",
       "      <td>Arellano</td>\n",
       "      <td>204.74730</td>\n",
       "      <td>free</td>\n",
       "      <td>Harrisburg-Carlisle, PA</td>\n",
       "      <td>PUT</td>\n",
       "      <td>NextSong</td>\n",
       "      <td>1.540007e+12</td>\n",
       "      <td>815</td>\n",
       "      <td>Va Bien</td>\n",
       "      <td>200</td>\n",
       "      <td>1542931860796</td>\n",
       "      <td>\"Mozilla/5.0 (Macintosh; Intel Mac OS X 10_9_4...</td>\n",
       "      <td>66</td>\n",
       "    </tr>\n",
       "    <tr>\n",
       "      <th>2</th>\n",
       "      <td>Franz Ferdinand</td>\n",
       "      <td>Logged In</td>\n",
       "      <td>Kevin</td>\n",
       "      <td>M</td>\n",
       "      <td>2</td>\n",
       "      <td>Arellano</td>\n",
       "      <td>172.01587</td>\n",
       "      <td>free</td>\n",
       "      <td>Harrisburg-Carlisle, PA</td>\n",
       "      <td>PUT</td>\n",
       "      <td>NextSong</td>\n",
       "      <td>1.540007e+12</td>\n",
       "      <td>815</td>\n",
       "      <td>Eleanor Put Your Boots On</td>\n",
       "      <td>200</td>\n",
       "      <td>1542932064796</td>\n",
       "      <td>\"Mozilla/5.0 (Macintosh; Intel Mac OS X 10_9_4...</td>\n",
       "      <td>66</td>\n",
       "    </tr>\n",
       "    <tr>\n",
       "      <th>3</th>\n",
       "      <td>Modest Mouse</td>\n",
       "      <td>Logged In</td>\n",
       "      <td>Kevin</td>\n",
       "      <td>M</td>\n",
       "      <td>3</td>\n",
       "      <td>Arellano</td>\n",
       "      <td>209.52771</td>\n",
       "      <td>free</td>\n",
       "      <td>Harrisburg-Carlisle, PA</td>\n",
       "      <td>PUT</td>\n",
       "      <td>NextSong</td>\n",
       "      <td>1.540007e+12</td>\n",
       "      <td>815</td>\n",
       "      <td>Float On</td>\n",
       "      <td>200</td>\n",
       "      <td>1542932236796</td>\n",
       "      <td>\"Mozilla/5.0 (Macintosh; Intel Mac OS X 10_9_4...</td>\n",
       "      <td>66</td>\n",
       "    </tr>\n",
       "    <tr>\n",
       "      <th>4</th>\n",
       "      <td>Adam Lambert</td>\n",
       "      <td>Logged In</td>\n",
       "      <td>Kevin</td>\n",
       "      <td>M</td>\n",
       "      <td>4</td>\n",
       "      <td>Arellano</td>\n",
       "      <td>266.44853</td>\n",
       "      <td>free</td>\n",
       "      <td>Harrisburg-Carlisle, PA</td>\n",
       "      <td>PUT</td>\n",
       "      <td>NextSong</td>\n",
       "      <td>1.540007e+12</td>\n",
       "      <td>815</td>\n",
       "      <td>Aftermath</td>\n",
       "      <td>200</td>\n",
       "      <td>1542932445796</td>\n",
       "      <td>\"Mozilla/5.0 (Macintosh; Intel Mac OS X 10_9_4...</td>\n",
       "      <td>66</td>\n",
       "    </tr>\n",
       "  </tbody>\n",
       "</table>\n",
       "</div>"
      ],
      "text/plain": [
       "                artist       auth firstName gender  itemInSession  lastName  \\\n",
       "0  Great Lake Swimmers  Logged In     Kevin      M              0  Arellano   \n",
       "1  Soziedad Alkoholika  Logged In     Kevin      M              1  Arellano   \n",
       "2      Franz Ferdinand  Logged In     Kevin      M              2  Arellano   \n",
       "3         Modest Mouse  Logged In     Kevin      M              3  Arellano   \n",
       "4         Adam Lambert  Logged In     Kevin      M              4  Arellano   \n",
       "\n",
       "      length level                 location method      page  registration  \\\n",
       "0  215.11791  free  Harrisburg-Carlisle, PA    PUT  NextSong  1.540007e+12   \n",
       "1  204.74730  free  Harrisburg-Carlisle, PA    PUT  NextSong  1.540007e+12   \n",
       "2  172.01587  free  Harrisburg-Carlisle, PA    PUT  NextSong  1.540007e+12   \n",
       "3  209.52771  free  Harrisburg-Carlisle, PA    PUT  NextSong  1.540007e+12   \n",
       "4  266.44853  free  Harrisburg-Carlisle, PA    PUT  NextSong  1.540007e+12   \n",
       "\n",
       "   sessionId                       song  status             ts  \\\n",
       "0        815           Your Rocky Spine     200  1542931645796   \n",
       "1        815                    Va Bien     200  1542931860796   \n",
       "2        815  Eleanor Put Your Boots On     200  1542932064796   \n",
       "3        815                   Float On     200  1542932236796   \n",
       "4        815                  Aftermath     200  1542932445796   \n",
       "\n",
       "                                           userAgent userId  \n",
       "0  \"Mozilla/5.0 (Macintosh; Intel Mac OS X 10_9_4...     66  \n",
       "1  \"Mozilla/5.0 (Macintosh; Intel Mac OS X 10_9_4...     66  \n",
       "2  \"Mozilla/5.0 (Macintosh; Intel Mac OS X 10_9_4...     66  \n",
       "3  \"Mozilla/5.0 (Macintosh; Intel Mac OS X 10_9_4...     66  \n",
       "4  \"Mozilla/5.0 (Macintosh; Intel Mac OS X 10_9_4...     66  "
      ]
     },
     "execution_count": 16,
     "metadata": {},
     "output_type": "execute_result"
    }
   ],
   "source": [
    "df = df[df.page=='NextSong']\n",
    "df.head()"
   ]
  },
  {
   "cell_type": "code",
   "execution_count": 17,
   "metadata": {
    "ExecuteTime": {
     "end_time": "2021-01-31T18:52:17.531242Z",
     "start_time": "2021-01-31T18:52:17.526623Z"
    }
   },
   "outputs": [
    {
     "data": {
      "text/plain": [
       "0    1542931645796\n",
       "1    1542931860796\n",
       "2    1542932064796\n",
       "3    1542932236796\n",
       "4    1542932445796\n",
       "Name: ts, dtype: int64"
      ]
     },
     "execution_count": 17,
     "metadata": {},
     "output_type": "execute_result"
    }
   ],
   "source": [
    "t = df.ts\n",
    "t.head()"
   ]
  },
  {
   "cell_type": "code",
   "execution_count": 18,
   "metadata": {
    "ExecuteTime": {
     "end_time": "2021-01-31T18:52:18.043781Z",
     "start_time": "2021-01-31T18:52:18.035187Z"
    }
   },
   "outputs": [
    {
     "data": {
      "text/plain": [
       "0   2018-11-23 00:07:25.796\n",
       "1   2018-11-23 00:11:00.796\n",
       "2   2018-11-23 00:14:24.796\n",
       "3   2018-11-23 00:17:16.796\n",
       "4   2018-11-23 00:20:45.796\n",
       "Name: ts, dtype: datetime64[ns]"
      ]
     },
     "execution_count": 18,
     "metadata": {},
     "output_type": "execute_result"
    }
   ],
   "source": [
    "time_data = pd.to_datetime(t, unit='ms')\n",
    "time_data.head()"
   ]
  },
  {
   "cell_type": "code",
   "execution_count": 19,
   "metadata": {
    "ExecuteTime": {
     "end_time": "2021-01-31T18:52:18.611528Z",
     "start_time": "2021-01-31T18:52:18.594351Z"
    }
   },
   "outputs": [
    {
     "data": {
      "text/html": [
       "<div>\n",
       "<style scoped>\n",
       "    .dataframe tbody tr th:only-of-type {\n",
       "        vertical-align: middle;\n",
       "    }\n",
       "\n",
       "    .dataframe tbody tr th {\n",
       "        vertical-align: top;\n",
       "    }\n",
       "\n",
       "    .dataframe thead th {\n",
       "        text-align: right;\n",
       "    }\n",
       "</style>\n",
       "<table border=\"1\" class=\"dataframe\">\n",
       "  <thead>\n",
       "    <tr style=\"text-align: right;\">\n",
       "      <th></th>\n",
       "      <th>ts</th>\n",
       "      <th>hour</th>\n",
       "      <th>day</th>\n",
       "      <th>week</th>\n",
       "      <th>month</th>\n",
       "      <th>year</th>\n",
       "      <th>weekday</th>\n",
       "    </tr>\n",
       "  </thead>\n",
       "  <tbody>\n",
       "    <tr>\n",
       "      <th>0</th>\n",
       "      <td>2018-11-23 00:07:25.796</td>\n",
       "      <td>0</td>\n",
       "      <td>23</td>\n",
       "      <td>47</td>\n",
       "      <td>11</td>\n",
       "      <td>2018</td>\n",
       "      <td>4</td>\n",
       "    </tr>\n",
       "    <tr>\n",
       "      <th>1</th>\n",
       "      <td>2018-11-23 00:11:00.796</td>\n",
       "      <td>0</td>\n",
       "      <td>23</td>\n",
       "      <td>47</td>\n",
       "      <td>11</td>\n",
       "      <td>2018</td>\n",
       "      <td>4</td>\n",
       "    </tr>\n",
       "    <tr>\n",
       "      <th>2</th>\n",
       "      <td>2018-11-23 00:14:24.796</td>\n",
       "      <td>0</td>\n",
       "      <td>23</td>\n",
       "      <td>47</td>\n",
       "      <td>11</td>\n",
       "      <td>2018</td>\n",
       "      <td>4</td>\n",
       "    </tr>\n",
       "    <tr>\n",
       "      <th>3</th>\n",
       "      <td>2018-11-23 00:17:16.796</td>\n",
       "      <td>0</td>\n",
       "      <td>23</td>\n",
       "      <td>47</td>\n",
       "      <td>11</td>\n",
       "      <td>2018</td>\n",
       "      <td>4</td>\n",
       "    </tr>\n",
       "    <tr>\n",
       "      <th>4</th>\n",
       "      <td>2018-11-23 00:20:45.796</td>\n",
       "      <td>0</td>\n",
       "      <td>23</td>\n",
       "      <td>47</td>\n",
       "      <td>11</td>\n",
       "      <td>2018</td>\n",
       "      <td>4</td>\n",
       "    </tr>\n",
       "  </tbody>\n",
       "</table>\n",
       "</div>"
      ],
      "text/plain": [
       "                       ts  hour  day  week  month  year  weekday\n",
       "0 2018-11-23 00:07:25.796     0   23    47     11  2018        4\n",
       "1 2018-11-23 00:11:00.796     0   23    47     11  2018        4\n",
       "2 2018-11-23 00:14:24.796     0   23    47     11  2018        4\n",
       "3 2018-11-23 00:17:16.796     0   23    47     11  2018        4\n",
       "4 2018-11-23 00:20:45.796     0   23    47     11  2018        4"
      ]
     },
     "execution_count": 19,
     "metadata": {},
     "output_type": "execute_result"
    }
   ],
   "source": [
    "import datetime as dt\n",
    "time_df = pd.DataFrame(time_data)\n",
    "time_df['hour'] = time_df.ts.dt.hour \n",
    "time_df['day'] = time_df.ts.dt.day \n",
    "time_df['week'] = time_df.ts.dt.isocalendar().week\n",
    "time_df['month'] = time_df.ts.dt.month \n",
    "time_df['year'] = time_df.ts.dt.year \n",
    "time_df['weekday'] = time_df.ts.dt.weekday \n",
    "time_df.head()"
   ]
  },
  {
   "cell_type": "markdown",
   "metadata": {},
   "source": [
    "#### Insert Records into Time Table\n",
    "Implement the `time_table_insert` query in `sql_queries.py` and run the cell below to insert records for the timestamps in this log file into the `time` table. Remember to run `create_tables.py` before running the cell below to ensure you've created/resetted the `time` table in the sparkify database."
   ]
  },
  {
   "cell_type": "code",
   "execution_count": 20,
   "metadata": {
    "ExecuteTime": {
     "end_time": "2021-01-31T18:52:20.005513Z",
     "start_time": "2021-01-31T18:52:19.918336Z"
    }
   },
   "outputs": [],
   "source": [
    "for i, row in time_df.iterrows():\n",
    "    cur.execute(time_table_insert, list(row))\n",
    "    conn.commit()"
   ]
  },
  {
   "cell_type": "markdown",
   "metadata": {},
   "source": [
    "Run `test.ipynb` to see if you've successfully added records to this table."
   ]
  },
  {
   "cell_type": "markdown",
   "metadata": {},
   "source": [
    "## #4: `users` Table\n",
    "#### Extract Data for Users Table\n",
    "- Select columns for user ID, first name, last name, gender and level and set to `user_df`"
   ]
  },
  {
   "cell_type": "code",
   "execution_count": 21,
   "metadata": {
    "ExecuteTime": {
     "end_time": "2021-01-31T18:52:21.604003Z",
     "start_time": "2021-01-31T18:52:21.599420Z"
    }
   },
   "outputs": [],
   "source": [
    "user_df = df[['userId', 'firstName', 'lastName', 'gender', 'level']]"
   ]
  },
  {
   "cell_type": "code",
   "execution_count": 22,
   "metadata": {
    "ExecuteTime": {
     "end_time": "2021-01-31T18:52:22.765752Z",
     "start_time": "2021-01-31T18:52:22.759280Z"
    }
   },
   "outputs": [
    {
     "data": {
      "text/plain": [
       "Index(['artist', 'auth', 'firstName', 'gender', 'itemInSession', 'lastName',\n",
       "       'length', 'level', 'location', 'method', 'page', 'registration',\n",
       "       'sessionId', 'song', 'status', 'ts', 'userAgent', 'userId'],\n",
       "      dtype='object')"
      ]
     },
     "execution_count": 22,
     "metadata": {},
     "output_type": "execute_result"
    }
   ],
   "source": [
    "df.columns"
   ]
  },
  {
   "cell_type": "markdown",
   "metadata": {},
   "source": [
    "#### Insert Records into Users Table\n",
    "Implement the `user_table_insert` query in `sql_queries.py` and run the cell below to insert records for the users in this log file into the `users` table. Remember to run `create_tables.py` before running the cell below to ensure you've created/resetted the `users` table in the sparkify database."
   ]
  },
  {
   "cell_type": "code",
   "execution_count": 23,
   "metadata": {
    "ExecuteTime": {
     "end_time": "2021-01-31T18:52:24.257402Z",
     "start_time": "2021-01-31T18:52:24.173902Z"
    }
   },
   "outputs": [],
   "source": [
    "for i, row in user_df.iterrows():\n",
    "    cur.execute(user_table_insert, row)\n",
    "    conn.commit()"
   ]
  },
  {
   "cell_type": "markdown",
   "metadata": {},
   "source": [
    "Run `test.ipynb` to see if you've successfully added records to this table."
   ]
  },
  {
   "cell_type": "markdown",
   "metadata": {},
   "source": [
    "## #5: `songplays` Table\n",
    "#### Extract Data and Songplays Table\n",
    "This one is a little more complicated since information from the songs table, artists table, and original log file are all needed for the `songplays` table. Since the log file does not specify an ID for either the song or the artist, you'll need to get the song ID and artist ID by querying the songs and artists tables to find matches based on song title, artist name, and song duration time.\n",
    "- Implement the `song_select` query in `sql_queries.py` to find the song ID and artist ID based on the title, artist name, and duration of a song.\n",
    "- Select the timestamp, user ID, level, song ID, artist ID, session ID, location, and user agent and set to `songplay_data`\n",
    "\n",
    "#### Insert Records into Songplays Table\n",
    "- Implement the `songplay_table_insert` query and run the cell below to insert records for the songplay actions in this log file into the `songplays` table. Remember to run `create_tables.py` before running the cell below to ensure you've created/resetted the `songplays` table in the sparkify database."
   ]
  },
  {
   "cell_type": "code",
   "execution_count": 26,
   "metadata": {
    "ExecuteTime": {
     "end_time": "2021-01-31T18:54:21.334466Z",
     "start_time": "2021-01-31T18:54:20.931761Z"
    }
   },
   "outputs": [
    {
     "name": "stdout",
     "output_type": "stream",
     "text": [
      "None\n",
      "[Timestamp('2018-11-23 00:07:25.796000'), '66', 'free', None, None, 815, 'Harrisburg-Carlisle, PA', '\"Mozilla/5.0 (Macintosh; Intel Mac OS X 10_9_4) AppleWebKit/537.36 (KHTML, like Gecko) Chrome/36.0.1985.125 Safari/537.36\"']\n",
      "None\n",
      "[Timestamp('2018-11-23 00:11:00.796000'), '66', 'free', None, None, 815, 'Harrisburg-Carlisle, PA', '\"Mozilla/5.0 (Macintosh; Intel Mac OS X 10_9_4) AppleWebKit/537.36 (KHTML, like Gecko) Chrome/36.0.1985.125 Safari/537.36\"']\n",
      "None\n",
      "[Timestamp('2018-11-23 00:14:24.796000'), '66', 'free', None, None, 815, 'Harrisburg-Carlisle, PA', '\"Mozilla/5.0 (Macintosh; Intel Mac OS X 10_9_4) AppleWebKit/537.36 (KHTML, like Gecko) Chrome/36.0.1985.125 Safari/537.36\"']\n",
      "None\n",
      "[Timestamp('2018-11-23 00:17:16.796000'), '66', 'free', None, None, 815, 'Harrisburg-Carlisle, PA', '\"Mozilla/5.0 (Macintosh; Intel Mac OS X 10_9_4) AppleWebKit/537.36 (KHTML, like Gecko) Chrome/36.0.1985.125 Safari/537.36\"']\n",
      "None\n",
      "[Timestamp('2018-11-23 00:20:45.796000'), '66', 'free', None, None, 815, 'Harrisburg-Carlisle, PA', '\"Mozilla/5.0 (Macintosh; Intel Mac OS X 10_9_4) AppleWebKit/537.36 (KHTML, like Gecko) Chrome/36.0.1985.125 Safari/537.36\"']\n",
      "None\n",
      "[Timestamp('2018-11-23 00:25:11.796000'), '66', 'free', None, None, 815, 'Harrisburg-Carlisle, PA', '\"Mozilla/5.0 (Macintosh; Intel Mac OS X 10_9_4) AppleWebKit/537.36 (KHTML, like Gecko) Chrome/36.0.1985.125 Safari/537.36\"']\n",
      "None\n",
      "[Timestamp('2018-11-23 00:29:30.796000'), '66', 'free', None, None, 815, 'Harrisburg-Carlisle, PA', '\"Mozilla/5.0 (Macintosh; Intel Mac OS X 10_9_4) AppleWebKit/537.36 (KHTML, like Gecko) Chrome/36.0.1985.125 Safari/537.36\"']\n",
      "None\n",
      "[Timestamp('2018-11-23 00:33:55.796000'), '66', 'free', None, None, 815, 'Harrisburg-Carlisle, PA', '\"Mozilla/5.0 (Macintosh; Intel Mac OS X 10_9_4) AppleWebKit/537.36 (KHTML, like Gecko) Chrome/36.0.1985.125 Safari/537.36\"']\n",
      "None\n",
      "[Timestamp('2018-11-23 00:38:05.796000'), '66', 'free', None, None, 815, 'Harrisburg-Carlisle, PA', '\"Mozilla/5.0 (Macintosh; Intel Mac OS X 10_9_4) AppleWebKit/537.36 (KHTML, like Gecko) Chrome/36.0.1985.125 Safari/537.36\"']\n",
      "None\n",
      "[Timestamp('2018-11-23 00:42:32.796000'), '66', 'free', None, None, 815, 'Harrisburg-Carlisle, PA', '\"Mozilla/5.0 (Macintosh; Intel Mac OS X 10_9_4) AppleWebKit/537.36 (KHTML, like Gecko) Chrome/36.0.1985.125 Safari/537.36\"']\n",
      "None\n",
      "[Timestamp('2018-11-23 00:45:07.796000'), '63', 'free', None, None, 839, 'Santa Rosa, CA', '\"Mozilla/5.0 (Macintosh; Intel Mac OS X 10_9_4) AppleWebKit/537.77.4 (KHTML, like Gecko) Version/7.0.5 Safari/537.77.4\"']\n",
      "None\n",
      "[Timestamp('2018-11-23 00:49:02.796000'), '63', 'free', None, None, 839, 'Santa Rosa, CA', '\"Mozilla/5.0 (Macintosh; Intel Mac OS X 10_9_4) AppleWebKit/537.77.4 (KHTML, like Gecko) Version/7.0.5 Safari/537.77.4\"']\n",
      "None\n",
      "[Timestamp('2018-11-23 01:34:56.796000'), '58', 'paid', None, None, 821, 'Augusta-Richmond County, GA-SC', '\"Mozilla/5.0 (Windows NT 6.3; WOW64) AppleWebKit/537.36 (KHTML, like Gecko) Chrome/36.0.1985.125 Safari/537.36\"']\n",
      "None\n",
      "[Timestamp('2018-11-23 01:39:24.796000'), '58', 'paid', None, None, 821, 'Augusta-Richmond County, GA-SC', '\"Mozilla/5.0 (Windows NT 6.3; WOW64) AppleWebKit/537.36 (KHTML, like Gecko) Chrome/36.0.1985.125 Safari/537.36\"']\n",
      "None\n",
      "[Timestamp('2018-11-23 02:35:36.796000'), '26', 'free', None, None, 845, 'San Jose-Sunnyvale-Santa Clara, CA', '\"Mozilla/5.0 (X11; Linux x86_64) AppleWebKit/537.36 (KHTML, like Gecko) Ubuntu Chromium/36.0.1985.125 Chrome/36.0.1985.125 Safari/537.36\"']\n",
      "None\n",
      "[Timestamp('2018-11-23 02:39:36.796000'), '26', 'free', None, None, 845, 'San Jose-Sunnyvale-Santa Clara, CA', '\"Mozilla/5.0 (X11; Linux x86_64) AppleWebKit/537.36 (KHTML, like Gecko) Ubuntu Chromium/36.0.1985.125 Chrome/36.0.1985.125 Safari/537.36\"']\n",
      "None\n",
      "[Timestamp('2018-11-23 03:48:24.796000'), '16', 'paid', None, None, 617, 'Birmingham-Hoover, AL', '\"Mozilla/5.0 (Macintosh; Intel Mac OS X 10_9_4) AppleWebKit/537.77.4 (KHTML, like Gecko) Version/7.0.5 Safari/537.77.4\"']\n",
      "None\n",
      "[Timestamp('2018-11-23 03:52:36.796000'), '16', 'paid', None, None, 617, 'Birmingham-Hoover, AL', '\"Mozilla/5.0 (Macintosh; Intel Mac OS X 10_9_4) AppleWebKit/537.77.4 (KHTML, like Gecko) Version/7.0.5 Safari/537.77.4\"']\n",
      "None\n",
      "[Timestamp('2018-11-23 03:57:58.796000'), '16', 'paid', None, None, 617, 'Birmingham-Hoover, AL', '\"Mozilla/5.0 (Macintosh; Intel Mac OS X 10_9_4) AppleWebKit/537.77.4 (KHTML, like Gecko) Version/7.0.5 Safari/537.77.4\"']\n",
      "None\n",
      "[Timestamp('2018-11-23 04:01:13.796000'), '16', 'paid', None, None, 617, 'Birmingham-Hoover, AL', '\"Mozilla/5.0 (Macintosh; Intel Mac OS X 10_9_4) AppleWebKit/537.77.4 (KHTML, like Gecko) Version/7.0.5 Safari/537.77.4\"']\n",
      "None\n",
      "[Timestamp('2018-11-23 04:04:51.796000'), '16', 'paid', None, None, 617, 'Birmingham-Hoover, AL', '\"Mozilla/5.0 (Macintosh; Intel Mac OS X 10_9_4) AppleWebKit/537.77.4 (KHTML, like Gecko) Version/7.0.5 Safari/537.77.4\"']\n",
      "None\n",
      "[Timestamp('2018-11-23 04:06:21.796000'), '16', 'paid', None, None, 617, 'Birmingham-Hoover, AL', '\"Mozilla/5.0 (Macintosh; Intel Mac OS X 10_9_4) AppleWebKit/537.77.4 (KHTML, like Gecko) Version/7.0.5 Safari/537.77.4\"']\n",
      "None\n",
      "[Timestamp('2018-11-23 04:09:56.796000'), '16', 'paid', None, None, 617, 'Birmingham-Hoover, AL', '\"Mozilla/5.0 (Macintosh; Intel Mac OS X 10_9_4) AppleWebKit/537.77.4 (KHTML, like Gecko) Version/7.0.5 Safari/537.77.4\"']\n",
      "None\n",
      "[Timestamp('2018-11-23 05:56:58.796000'), '66', 'free', None, None, 850, 'Harrisburg-Carlisle, PA', '\"Mozilla/5.0 (Macintosh; Intel Mac OS X 10_9_4) AppleWebKit/537.36 (KHTML, like Gecko) Chrome/36.0.1985.125 Safari/537.36\"']\n",
      "None\n",
      "[Timestamp('2018-11-23 06:03:11.796000'), '66', 'free', None, None, 850, 'Harrisburg-Carlisle, PA', '\"Mozilla/5.0 (Macintosh; Intel Mac OS X 10_9_4) AppleWebKit/537.36 (KHTML, like Gecko) Chrome/36.0.1985.125 Safari/537.36\"']\n",
      "None\n",
      "[Timestamp('2018-11-23 06:07:58.796000'), '6', 'free', None, None, 847, 'Atlanta-Sandy Springs-Roswell, GA', 'Mozilla/5.0 (Windows NT 6.1; WOW64; rv:32.0) Gecko/20100101 Firefox/32.0']\n",
      "None\n",
      "[Timestamp('2018-11-23 06:09:06.796000'), '66', 'free', None, None, 850, 'Harrisburg-Carlisle, PA', '\"Mozilla/5.0 (Macintosh; Intel Mac OS X 10_9_4) AppleWebKit/537.36 (KHTML, like Gecko) Chrome/36.0.1985.125 Safari/537.36\"']\n",
      "None\n",
      "[Timestamp('2018-11-23 06:11:42.796000'), '6', 'free', None, None, 847, 'Atlanta-Sandy Springs-Roswell, GA', 'Mozilla/5.0 (Windows NT 6.1; WOW64; rv:32.0) Gecko/20100101 Firefox/32.0']\n",
      "None\n",
      "[Timestamp('2018-11-23 06:15:22.796000'), '6', 'free', None, None, 847, 'Atlanta-Sandy Springs-Roswell, GA', 'Mozilla/5.0 (Windows NT 6.1; WOW64; rv:32.0) Gecko/20100101 Firefox/32.0']\n",
      "None\n",
      "[Timestamp('2018-11-23 06:28:16.796000'), '69', 'free', None, None, 791, 'Philadelphia-Camden-Wilmington, PA-NJ-DE-MD', '\"Mozilla/5.0 (Macintosh; Intel Mac OS X 10_9_4) AppleWebKit/537.36 (KHTML, like Gecko) Chrome/36.0.1985.125 Safari/537.36\"']\n",
      "None\n",
      "[Timestamp('2018-11-23 07:05:36.796000'), '50', 'free', None, None, 836, 'New Haven-Milford, CT', '\"Mozilla/5.0 (Windows NT 6.3; WOW64) AppleWebKit/537.36 (KHTML, like Gecko) Chrome/36.0.1985.143 Safari/537.36\"']\n",
      "None\n",
      "[Timestamp('2018-11-23 07:34:02.796000'), '53', 'free', None, None, 826, 'Klamath Falls, OR', '\"Mozilla/5.0 (Windows NT 6.1; WOW64) AppleWebKit/537.36 (KHTML, like Gecko) Chrome/37.0.2062.103 Safari/537.36\"']\n",
      "None\n",
      "[Timestamp('2018-11-23 07:50:40.796000'), '56', 'free', None, None, 131, 'New York-Newark-Jersey City, NY-NJ-PA', '\"Mozilla/5.0 (Windows NT 6.1; WOW64) AppleWebKit/537.36 (KHTML, like Gecko) Chrome/37.0.2062.94 Safari/537.36\"']\n",
      "None\n",
      "[Timestamp('2018-11-23 07:51:37.796000'), '94', 'free', None, None, 755, 'Ogden-Clearfield, UT', 'Mozilla/5.0 (Windows NT 6.1; WOW64; rv:32.0) Gecko/20100101 Firefox/32.0']\n",
      "None\n",
      "[Timestamp('2018-11-23 07:53:57.796000'), '56', 'free', None, None, 131, 'New York-Newark-Jersey City, NY-NJ-PA', '\"Mozilla/5.0 (Windows NT 6.1; WOW64) AppleWebKit/537.36 (KHTML, like Gecko) Chrome/37.0.2062.94 Safari/537.36\"']\n",
      "None\n",
      "[Timestamp('2018-11-23 07:55:00.796000'), '94', 'free', None, None, 755, 'Ogden-Clearfield, UT', 'Mozilla/5.0 (Windows NT 6.1; WOW64; rv:32.0) Gecko/20100101 Firefox/32.0']\n",
      "None\n",
      "[Timestamp('2018-11-23 10:39:09.796000'), '98', 'free', None, None, 357, 'Philadelphia-Camden-Wilmington, PA-NJ-DE-MD', '\"Mozilla/5.0 (Macintosh; Intel Mac OS X 10_9_4) AppleWebKit/537.36 (KHTML, like Gecko) Chrome/36.0.1985.143 Safari/537.36\"']\n",
      "None\n",
      "[Timestamp('2018-11-23 10:43:47.796000'), '98', 'free', None, None, 357, 'Philadelphia-Camden-Wilmington, PA-NJ-DE-MD', '\"Mozilla/5.0 (Macintosh; Intel Mac OS X 10_9_4) AppleWebKit/537.36 (KHTML, like Gecko) Chrome/36.0.1985.143 Safari/537.36\"']\n",
      "None\n",
      "[Timestamp('2018-11-23 10:57:19.796000'), '90', 'free', None, None, 745, 'Pensacola-Ferry Pass-Brent, FL', 'Mozilla/5.0 (X11; Linux x86_64; rv:31.0) Gecko/20100101 Firefox/31.0']\n",
      "None\n",
      "[Timestamp('2018-11-23 11:02:35.796000'), '80', 'paid', None, None, 848, 'Portland-South Portland, ME', '\"Mozilla/5.0 (Macintosh; Intel Mac OS X 10_9_4) AppleWebKit/537.36 (KHTML, like Gecko) Chrome/36.0.1985.143 Safari/537.36\"']\n",
      "None\n",
      "[Timestamp('2018-11-23 11:04:05.796000'), '90', 'free', None, None, 745, 'Pensacola-Ferry Pass-Brent, FL', 'Mozilla/5.0 (X11; Linux x86_64; rv:31.0) Gecko/20100101 Firefox/31.0']\n",
      "None\n",
      "[Timestamp('2018-11-23 11:13:30.796000'), '80', 'paid', None, None, 848, 'Portland-South Portland, ME', '\"Mozilla/5.0 (Macintosh; Intel Mac OS X 10_9_4) AppleWebKit/537.36 (KHTML, like Gecko) Chrome/36.0.1985.143 Safari/537.36\"']\n",
      "None\n",
      "[Timestamp('2018-11-23 11:14:28.796000'), '80', 'paid', None, None, 848, 'Portland-South Portland, ME', '\"Mozilla/5.0 (Macintosh; Intel Mac OS X 10_9_4) AppleWebKit/537.36 (KHTML, like Gecko) Chrome/36.0.1985.143 Safari/537.36\"']\n",
      "None\n",
      "[Timestamp('2018-11-23 11:17:50.796000'), '80', 'paid', None, None, 848, 'Portland-South Portland, ME', '\"Mozilla/5.0 (Macintosh; Intel Mac OS X 10_9_4) AppleWebKit/537.36 (KHTML, like Gecko) Chrome/36.0.1985.143 Safari/537.36\"']\n",
      "None\n",
      "[Timestamp('2018-11-23 11:22:40.796000'), '80', 'paid', None, None, 848, 'Portland-South Portland, ME', '\"Mozilla/5.0 (Macintosh; Intel Mac OS X 10_9_4) AppleWebKit/537.36 (KHTML, like Gecko) Chrome/36.0.1985.143 Safari/537.36\"']\n",
      "None\n",
      "[Timestamp('2018-11-23 11:26:29.796000'), '80', 'paid', None, None, 848, 'Portland-South Portland, ME', '\"Mozilla/5.0 (Macintosh; Intel Mac OS X 10_9_4) AppleWebKit/537.36 (KHTML, like Gecko) Chrome/36.0.1985.143 Safari/537.36\"']\n",
      "None\n",
      "[Timestamp('2018-11-23 11:32:17.796000'), '80', 'paid', None, None, 848, 'Portland-South Portland, ME', '\"Mozilla/5.0 (Macintosh; Intel Mac OS X 10_9_4) AppleWebKit/537.36 (KHTML, like Gecko) Chrome/36.0.1985.143 Safari/537.36\"']\n",
      "None\n",
      "[Timestamp('2018-11-23 11:35:48.796000'), '80', 'paid', None, None, 848, 'Portland-South Portland, ME', '\"Mozilla/5.0 (Macintosh; Intel Mac OS X 10_9_4) AppleWebKit/537.36 (KHTML, like Gecko) Chrome/36.0.1985.143 Safari/537.36\"']\n",
      "None\n",
      "[Timestamp('2018-11-23 11:37:44.796000'), '16', 'paid', None, None, 854, 'Birmingham-Hoover, AL', '\"Mozilla/5.0 (Macintosh; Intel Mac OS X 10_9_4) AppleWebKit/537.77.4 (KHTML, like Gecko) Version/7.0.5 Safari/537.77.4\"']\n",
      "None\n",
      "[Timestamp('2018-11-23 11:39:45.796000'), '80', 'paid', None, None, 848, 'Portland-South Portland, ME', '\"Mozilla/5.0 (Macintosh; Intel Mac OS X 10_9_4) AppleWebKit/537.36 (KHTML, like Gecko) Chrome/36.0.1985.143 Safari/537.36\"']\n",
      "None\n",
      "[Timestamp('2018-11-23 11:42:52.796000'), '80', 'paid', None, None, 848, 'Portland-South Portland, ME', '\"Mozilla/5.0 (Macintosh; Intel Mac OS X 10_9_4) AppleWebKit/537.36 (KHTML, like Gecko) Chrome/36.0.1985.143 Safari/537.36\"']\n",
      "None\n",
      "[Timestamp('2018-11-23 11:43:31.796000'), '16', 'paid', None, None, 854, 'Birmingham-Hoover, AL', '\"Mozilla/5.0 (Macintosh; Intel Mac OS X 10_9_4) AppleWebKit/537.77.4 (KHTML, like Gecko) Version/7.0.5 Safari/537.77.4\"']\n",
      "None\n",
      "[Timestamp('2018-11-23 11:47:14.796000'), '80', 'paid', None, None, 848, 'Portland-South Portland, ME', '\"Mozilla/5.0 (Macintosh; Intel Mac OS X 10_9_4) AppleWebKit/537.36 (KHTML, like Gecko) Chrome/36.0.1985.143 Safari/537.36\"']\n",
      "None\n",
      "[Timestamp('2018-11-23 11:50:36.796000'), '16', 'paid', None, None, 854, 'Birmingham-Hoover, AL', '\"Mozilla/5.0 (Macintosh; Intel Mac OS X 10_9_4) AppleWebKit/537.77.4 (KHTML, like Gecko) Version/7.0.5 Safari/537.77.4\"']\n",
      "None\n",
      "[Timestamp('2018-11-23 11:52:40.796000'), '80', 'paid', None, None, 848, 'Portland-South Portland, ME', '\"Mozilla/5.0 (Macintosh; Intel Mac OS X 10_9_4) AppleWebKit/537.36 (KHTML, like Gecko) Chrome/36.0.1985.143 Safari/537.36\"']\n",
      "None\n",
      "[Timestamp('2018-11-23 11:54:21.796000'), '16', 'paid', None, None, 854, 'Birmingham-Hoover, AL', '\"Mozilla/5.0 (Macintosh; Intel Mac OS X 10_9_4) AppleWebKit/537.77.4 (KHTML, like Gecko) Version/7.0.5 Safari/537.77.4\"']\n",
      "None\n",
      "[Timestamp('2018-11-23 11:59:10.796000'), '16', 'paid', None, None, 854, 'Birmingham-Hoover, AL', '\"Mozilla/5.0 (Macintosh; Intel Mac OS X 10_9_4) AppleWebKit/537.77.4 (KHTML, like Gecko) Version/7.0.5 Safari/537.77.4\"']\n",
      "None\n",
      "[Timestamp('2018-11-23 12:01:25.796000'), '80', 'paid', None, None, 848, 'Portland-South Portland, ME', '\"Mozilla/5.0 (Macintosh; Intel Mac OS X 10_9_4) AppleWebKit/537.36 (KHTML, like Gecko) Chrome/36.0.1985.143 Safari/537.36\"']\n",
      "None\n",
      "[Timestamp('2018-11-23 12:02:53.796000'), '16', 'paid', None, None, 854, 'Birmingham-Hoover, AL', '\"Mozilla/5.0 (Macintosh; Intel Mac OS X 10_9_4) AppleWebKit/537.77.4 (KHTML, like Gecko) Version/7.0.5 Safari/537.77.4\"']\n",
      "None\n",
      "[Timestamp('2018-11-23 12:05:04.796000'), '80', 'paid', None, None, 848, 'Portland-South Portland, ME', '\"Mozilla/5.0 (Macintosh; Intel Mac OS X 10_9_4) AppleWebKit/537.36 (KHTML, like Gecko) Chrome/36.0.1985.143 Safari/537.36\"']\n",
      "None\n",
      "[Timestamp('2018-11-23 12:07:58.796000'), '16', 'paid', None, None, 854, 'Birmingham-Hoover, AL', '\"Mozilla/5.0 (Macintosh; Intel Mac OS X 10_9_4) AppleWebKit/537.77.4 (KHTML, like Gecko) Version/7.0.5 Safari/537.77.4\"']\n",
      "None\n",
      "[Timestamp('2018-11-23 12:08:33.796000'), '80', 'paid', None, None, 848, 'Portland-South Portland, ME', '\"Mozilla/5.0 (Macintosh; Intel Mac OS X 10_9_4) AppleWebKit/537.36 (KHTML, like Gecko) Chrome/36.0.1985.143 Safari/537.36\"']\n",
      "None\n",
      "[Timestamp('2018-11-23 12:11:58.796000'), '80', 'paid', None, None, 848, 'Portland-South Portland, ME', '\"Mozilla/5.0 (Macintosh; Intel Mac OS X 10_9_4) AppleWebKit/537.36 (KHTML, like Gecko) Chrome/36.0.1985.143 Safari/537.36\"']\n",
      "None\n",
      "[Timestamp('2018-11-23 12:12:48.796000'), '16', 'paid', None, None, 854, 'Birmingham-Hoover, AL', '\"Mozilla/5.0 (Macintosh; Intel Mac OS X 10_9_4) AppleWebKit/537.77.4 (KHTML, like Gecko) Version/7.0.5 Safari/537.77.4\"']\n",
      "None\n",
      "[Timestamp('2018-11-23 12:15:42.796000'), '80', 'paid', None, None, 848, 'Portland-South Portland, ME', '\"Mozilla/5.0 (Macintosh; Intel Mac OS X 10_9_4) AppleWebKit/537.36 (KHTML, like Gecko) Chrome/36.0.1985.143 Safari/537.36\"']\n",
      "None\n",
      "[Timestamp('2018-11-23 12:17:20.796000'), '16', 'paid', None, None, 854, 'Birmingham-Hoover, AL', '\"Mozilla/5.0 (Macintosh; Intel Mac OS X 10_9_4) AppleWebKit/537.77.4 (KHTML, like Gecko) Version/7.0.5 Safari/537.77.4\"']\n",
      "None\n",
      "[Timestamp('2018-11-23 12:21:09.796000'), '80', 'paid', None, None, 848, 'Portland-South Portland, ME', '\"Mozilla/5.0 (Macintosh; Intel Mac OS X 10_9_4) AppleWebKit/537.36 (KHTML, like Gecko) Chrome/36.0.1985.143 Safari/537.36\"']\n",
      "None\n",
      "[Timestamp('2018-11-23 12:23:40.796000'), '80', 'paid', None, None, 848, 'Portland-South Portland, ME', '\"Mozilla/5.0 (Macintosh; Intel Mac OS X 10_9_4) AppleWebKit/537.36 (KHTML, like Gecko) Chrome/36.0.1985.143 Safari/537.36\"']\n",
      "None\n",
      "[Timestamp('2018-11-23 12:28:13.796000'), '80', 'paid', None, None, 848, 'Portland-South Portland, ME', '\"Mozilla/5.0 (Macintosh; Intel Mac OS X 10_9_4) AppleWebKit/537.36 (KHTML, like Gecko) Chrome/36.0.1985.143 Safari/537.36\"']\n",
      "None\n",
      "[Timestamp('2018-11-23 12:30:30.796000'), '16', 'paid', None, None, 854, 'Birmingham-Hoover, AL', '\"Mozilla/5.0 (Macintosh; Intel Mac OS X 10_9_4) AppleWebKit/537.77.4 (KHTML, like Gecko) Version/7.0.5 Safari/537.77.4\"']\n",
      "None\n",
      "[Timestamp('2018-11-23 12:33:54.796000'), '80', 'paid', None, None, 848, 'Portland-South Portland, ME', '\"Mozilla/5.0 (Macintosh; Intel Mac OS X 10_9_4) AppleWebKit/537.36 (KHTML, like Gecko) Chrome/36.0.1985.143 Safari/537.36\"']\n",
      "None\n",
      "[Timestamp('2018-11-23 12:34:55.796000'), '16', 'paid', None, None, 854, 'Birmingham-Hoover, AL', '\"Mozilla/5.0 (Macintosh; Intel Mac OS X 10_9_4) AppleWebKit/537.77.4 (KHTML, like Gecko) Version/7.0.5 Safari/537.77.4\"']\n",
      "None\n",
      "[Timestamp('2018-11-23 12:37:42.796000'), '80', 'paid', None, None, 848, 'Portland-South Portland, ME', '\"Mozilla/5.0 (Macintosh; Intel Mac OS X 10_9_4) AppleWebKit/537.36 (KHTML, like Gecko) Chrome/36.0.1985.143 Safari/537.36\"']\n",
      "None\n",
      "[Timestamp('2018-11-23 12:38:30.796000'), '16', 'paid', None, None, 854, 'Birmingham-Hoover, AL', '\"Mozilla/5.0 (Macintosh; Intel Mac OS X 10_9_4) AppleWebKit/537.77.4 (KHTML, like Gecko) Version/7.0.5 Safari/537.77.4\"']\n",
      "None\n",
      "[Timestamp('2018-11-23 12:42:12.796000'), '80', 'paid', None, None, 848, 'Portland-South Portland, ME', '\"Mozilla/5.0 (Macintosh; Intel Mac OS X 10_9_4) AppleWebKit/537.36 (KHTML, like Gecko) Chrome/36.0.1985.143 Safari/537.36\"']\n",
      "None\n",
      "[Timestamp('2018-11-23 12:42:26.796000'), '16', 'paid', None, None, 854, 'Birmingham-Hoover, AL', '\"Mozilla/5.0 (Macintosh; Intel Mac OS X 10_9_4) AppleWebKit/537.77.4 (KHTML, like Gecko) Version/7.0.5 Safari/537.77.4\"']\n",
      "None\n",
      "[Timestamp('2018-11-23 12:46:07.796000'), '16', 'paid', None, None, 854, 'Birmingham-Hoover, AL', '\"Mozilla/5.0 (Macintosh; Intel Mac OS X 10_9_4) AppleWebKit/537.77.4 (KHTML, like Gecko) Version/7.0.5 Safari/537.77.4\"']\n",
      "None\n",
      "[Timestamp('2018-11-23 12:46:24.796000'), '80', 'paid', None, None, 848, 'Portland-South Portland, ME', '\"Mozilla/5.0 (Macintosh; Intel Mac OS X 10_9_4) AppleWebKit/537.36 (KHTML, like Gecko) Chrome/36.0.1985.143 Safari/537.36\"']\n",
      "None\n",
      "[Timestamp('2018-11-23 12:50:21.796000'), '16', 'paid', None, None, 854, 'Birmingham-Hoover, AL', '\"Mozilla/5.0 (Macintosh; Intel Mac OS X 10_9_4) AppleWebKit/537.77.4 (KHTML, like Gecko) Version/7.0.5 Safari/537.77.4\"']\n",
      "None\n",
      "[Timestamp('2018-11-23 12:50:45.796000'), '80', 'paid', None, None, 848, 'Portland-South Portland, ME', '\"Mozilla/5.0 (Macintosh; Intel Mac OS X 10_9_4) AppleWebKit/537.36 (KHTML, like Gecko) Chrome/36.0.1985.143 Safari/537.36\"']\n",
      "None\n",
      "[Timestamp('2018-11-23 12:51:36.796000'), '86', 'free', None, None, 760, 'La Crosse-Onalaska, WI-MN', '\"Mozilla/5.0 (Macintosh; Intel Mac OS X 10_9_4) AppleWebKit/537.36 (KHTML, like Gecko) Chrome/37.0.2062.94 Safari/537.36\"']\n",
      "None\n",
      "[Timestamp('2018-11-23 12:52:33.796000'), '26', 'free', None, None, 853, 'San Jose-Sunnyvale-Santa Clara, CA', '\"Mozilla/5.0 (X11; Linux x86_64) AppleWebKit/537.36 (KHTML, like Gecko) Ubuntu Chromium/36.0.1985.125 Chrome/36.0.1985.125 Safari/537.36\"']\n",
      "None\n",
      "[Timestamp('2018-11-23 12:54:29.796000'), '86', 'free', None, None, 760, 'La Crosse-Onalaska, WI-MN', '\"Mozilla/5.0 (Macintosh; Intel Mac OS X 10_9_4) AppleWebKit/537.36 (KHTML, like Gecko) Chrome/37.0.2062.94 Safari/537.36\"']\n",
      "None\n",
      "[Timestamp('2018-11-23 12:54:50.796000'), '16', 'paid', None, None, 854, 'Birmingham-Hoover, AL', '\"Mozilla/5.0 (Macintosh; Intel Mac OS X 10_9_4) AppleWebKit/537.77.4 (KHTML, like Gecko) Version/7.0.5 Safari/537.77.4\"']\n",
      "None\n",
      "[Timestamp('2018-11-23 12:58:04.796000'), '80', 'paid', None, None, 848, 'Portland-South Portland, ME', '\"Mozilla/5.0 (Macintosh; Intel Mac OS X 10_9_4) AppleWebKit/537.36 (KHTML, like Gecko) Chrome/36.0.1985.143 Safari/537.36\"']\n",
      "None\n",
      "[Timestamp('2018-11-23 13:04:00.796000'), '16', 'paid', None, None, 854, 'Birmingham-Hoover, AL', '\"Mozilla/5.0 (Macintosh; Intel Mac OS X 10_9_4) AppleWebKit/537.77.4 (KHTML, like Gecko) Version/7.0.5 Safari/537.77.4\"']\n",
      "None\n",
      "[Timestamp('2018-11-23 14:25:06.796000'), '26', 'free', None, None, 868, 'San Jose-Sunnyvale-Santa Clara, CA', '\"Mozilla/5.0 (X11; Linux x86_64) AppleWebKit/537.36 (KHTML, like Gecko) Ubuntu Chromium/36.0.1985.125 Chrome/36.0.1985.125 Safari/537.36\"']\n",
      "None\n",
      "[Timestamp('2018-11-23 14:27:50.796000'), '40', 'free', None, None, 798, 'Oxnard-Thousand Oaks-Ventura, CA', '\"Mozilla/5.0 (Macintosh; Intel Mac OS X 10_9_4) AppleWebKit/537.77.4 (KHTML, like Gecko) Version/7.0.5 Safari/537.77.4\"']\n",
      "None\n",
      "[Timestamp('2018-11-23 14:38:54.796000'), '30', 'paid', None, None, 691, 'San Jose-Sunnyvale-Santa Clara, CA', 'Mozilla/5.0 (Windows NT 6.1; WOW64; rv:31.0) Gecko/20100101 Firefox/31.0']\n",
      "None\n",
      "[Timestamp('2018-11-23 14:41:51.796000'), '60', 'free', None, None, 765, 'Tampa-St. Petersburg-Clearwater, FL', 'Mozilla/5.0 (Windows NT 6.1; WOW64; rv:31.0) Gecko/20100101 Firefox/31.0']\n",
      "None\n",
      "[Timestamp('2018-11-23 14:41:51.796000'), '30', 'paid', None, None, 691, 'San Jose-Sunnyvale-Santa Clara, CA', 'Mozilla/5.0 (Windows NT 6.1; WOW64; rv:31.0) Gecko/20100101 Firefox/31.0']\n",
      "None\n",
      "[Timestamp('2018-11-23 14:45:52.796000'), '30', 'paid', None, None, 691, 'San Jose-Sunnyvale-Santa Clara, CA', 'Mozilla/5.0 (Windows NT 6.1; WOW64; rv:31.0) Gecko/20100101 Firefox/31.0']\n",
      "None\n",
      "[Timestamp('2018-11-23 14:47:49.796000'), '60', 'free', None, None, 765, 'Tampa-St. Petersburg-Clearwater, FL', 'Mozilla/5.0 (Windows NT 6.1; WOW64; rv:31.0) Gecko/20100101 Firefox/31.0']\n",
      "None\n",
      "[Timestamp('2018-11-23 14:50:26.796000'), '30', 'paid', None, None, 691, 'San Jose-Sunnyvale-Santa Clara, CA', 'Mozilla/5.0 (Windows NT 6.1; WOW64; rv:31.0) Gecko/20100101 Firefox/31.0']\n",
      "None\n",
      "[Timestamp('2018-11-23 14:53:55.796000'), '30', 'paid', None, None, 691, 'San Jose-Sunnyvale-Santa Clara, CA', 'Mozilla/5.0 (Windows NT 6.1; WOW64; rv:31.0) Gecko/20100101 Firefox/31.0']\n",
      "None\n",
      "[Timestamp('2018-11-23 15:00:59.796000'), '61', 'free', None, None, 748, 'Houston-The Woodlands-Sugar Land, TX', '\"Mozilla/5.0 (Macintosh; Intel Mac OS X 10_9_4) AppleWebKit/537.77.4 (KHTML, like Gecko) Version/7.0.5 Safari/537.77.4\"']\n",
      "None\n",
      "[Timestamp('2018-11-23 15:03:03.796000'), '30', 'paid', None, None, 691, 'San Jose-Sunnyvale-Santa Clara, CA', 'Mozilla/5.0 (Windows NT 6.1; WOW64; rv:31.0) Gecko/20100101 Firefox/31.0']\n",
      "None\n",
      "[Timestamp('2018-11-23 15:04:41.796000'), '30', 'paid', None, None, 691, 'San Jose-Sunnyvale-Santa Clara, CA', 'Mozilla/5.0 (Windows NT 6.1; WOW64; rv:31.0) Gecko/20100101 Firefox/31.0']\n",
      "None\n",
      "[Timestamp('2018-11-23 15:08:53.796000'), '30', 'paid', None, None, 691, 'San Jose-Sunnyvale-Santa Clara, CA', 'Mozilla/5.0 (Windows NT 6.1; WOW64; rv:31.0) Gecko/20100101 Firefox/31.0']\n",
      "None\n",
      "[Timestamp('2018-11-23 15:12:16.796000'), '30', 'paid', None, None, 691, 'San Jose-Sunnyvale-Santa Clara, CA', 'Mozilla/5.0 (Windows NT 6.1; WOW64; rv:31.0) Gecko/20100101 Firefox/31.0']\n",
      "None\n",
      "[Timestamp('2018-11-23 15:15:13.796000'), '30', 'paid', None, None, 691, 'San Jose-Sunnyvale-Santa Clara, CA', 'Mozilla/5.0 (Windows NT 6.1; WOW64; rv:31.0) Gecko/20100101 Firefox/31.0']\n",
      "None\n",
      "[Timestamp('2018-11-23 15:17:23.796000'), '24', 'paid', None, None, 809, 'Lake Havasu City-Kingman, AZ', '\"Mozilla/5.0 (Windows NT 6.1; WOW64) AppleWebKit/537.36 (KHTML, like Gecko) Chrome/36.0.1985.125 Safari/537.36\"']\n",
      "None\n",
      "[Timestamp('2018-11-23 15:17:30.796000'), '30', 'paid', None, None, 691, 'San Jose-Sunnyvale-Santa Clara, CA', 'Mozilla/5.0 (Windows NT 6.1; WOW64; rv:31.0) Gecko/20100101 Firefox/31.0']\n",
      "None\n",
      "[Timestamp('2018-11-23 15:21:17.796000'), '30', 'paid', None, None, 691, 'San Jose-Sunnyvale-Santa Clara, CA', 'Mozilla/5.0 (Windows NT 6.1; WOW64; rv:31.0) Gecko/20100101 Firefox/31.0']\n",
      "None\n",
      "[Timestamp('2018-11-23 15:21:21.796000'), '24', 'paid', None, None, 809, 'Lake Havasu City-Kingman, AZ', '\"Mozilla/5.0 (Windows NT 6.1; WOW64) AppleWebKit/537.36 (KHTML, like Gecko) Chrome/36.0.1985.125 Safari/537.36\"']\n",
      "None\n",
      "[Timestamp('2018-11-23 15:27:46.796000'), '24', 'paid', None, None, 809, 'Lake Havasu City-Kingman, AZ', '\"Mozilla/5.0 (Windows NT 6.1; WOW64) AppleWebKit/537.36 (KHTML, like Gecko) Chrome/36.0.1985.125 Safari/537.36\"']\n",
      "None\n",
      "[Timestamp('2018-11-23 15:28:12.796000'), '30', 'paid', None, None, 691, 'San Jose-Sunnyvale-Santa Clara, CA', 'Mozilla/5.0 (Windows NT 6.1; WOW64; rv:31.0) Gecko/20100101 Firefox/31.0']\n",
      "None\n",
      "[Timestamp('2018-11-23 15:29:23.796000'), '53', 'free', None, None, 860, 'Klamath Falls, OR', '\"Mozilla/5.0 (Windows NT 6.1; WOW64) AppleWebKit/537.36 (KHTML, like Gecko) Chrome/37.0.2062.103 Safari/537.36\"']\n",
      "None\n",
      "[Timestamp('2018-11-23 15:29:46.796000'), '24', 'paid', None, None, 809, 'Lake Havasu City-Kingman, AZ', '\"Mozilla/5.0 (Windows NT 6.1; WOW64) AppleWebKit/537.36 (KHTML, like Gecko) Chrome/36.0.1985.125 Safari/537.36\"']\n",
      "None\n",
      "[Timestamp('2018-11-23 15:30:49.796000'), '30', 'paid', None, None, 691, 'San Jose-Sunnyvale-Santa Clara, CA', 'Mozilla/5.0 (Windows NT 6.1; WOW64; rv:31.0) Gecko/20100101 Firefox/31.0']\n",
      "None\n",
      "[Timestamp('2018-11-23 15:31:37.796000'), '10', 'free', None, None, 864, 'Washington-Arlington-Alexandria, DC-VA-MD-WV', '\"Mozilla/5.0 (Macintosh; Intel Mac OS X 10_9_4) AppleWebKit/537.77.4 (KHTML, like Gecko) Version/7.0.5 Safari/537.77.4\"']\n",
      "None\n",
      "[Timestamp('2018-11-23 15:33:10.796000'), '53', 'free', None, None, 860, 'Klamath Falls, OR', '\"Mozilla/5.0 (Windows NT 6.1; WOW64) AppleWebKit/537.36 (KHTML, like Gecko) Chrome/37.0.2062.103 Safari/537.36\"']\n",
      "None\n",
      "[Timestamp('2018-11-23 15:33:24.796000'), '24', 'paid', None, None, 809, 'Lake Havasu City-Kingman, AZ', '\"Mozilla/5.0 (Windows NT 6.1; WOW64) AppleWebKit/537.36 (KHTML, like Gecko) Chrome/36.0.1985.125 Safari/537.36\"']\n"
     ]
    },
    {
     "name": "stdout",
     "output_type": "stream",
     "text": [
      "None\n",
      "[Timestamp('2018-11-23 15:37:12.796000'), '30', 'paid', None, None, 691, 'San Jose-Sunnyvale-Santa Clara, CA', 'Mozilla/5.0 (Windows NT 6.1; WOW64; rv:31.0) Gecko/20100101 Firefox/31.0']\n",
      "None\n",
      "[Timestamp('2018-11-23 15:41:18.796000'), '30', 'paid', None, None, 691, 'San Jose-Sunnyvale-Santa Clara, CA', 'Mozilla/5.0 (Windows NT 6.1; WOW64; rv:31.0) Gecko/20100101 Firefox/31.0']\n",
      "None\n",
      "[Timestamp('2018-11-23 15:44:29.796000'), '58', 'paid', None, None, 852, 'Augusta-Richmond County, GA-SC', '\"Mozilla/5.0 (Windows NT 6.3; WOW64) AppleWebKit/537.36 (KHTML, like Gecko) Chrome/36.0.1985.125 Safari/537.36\"']\n",
      "None\n",
      "[Timestamp('2018-11-23 15:45:35.796000'), '30', 'paid', None, None, 691, 'San Jose-Sunnyvale-Santa Clara, CA', 'Mozilla/5.0 (Windows NT 6.1; WOW64; rv:31.0) Gecko/20100101 Firefox/31.0']\n",
      "None\n",
      "[Timestamp('2018-11-23 15:48:19.796000'), '30', 'paid', None, None, 691, 'San Jose-Sunnyvale-Santa Clara, CA', 'Mozilla/5.0 (Windows NT 6.1; WOW64; rv:31.0) Gecko/20100101 Firefox/31.0']\n",
      "None\n",
      "[Timestamp('2018-11-23 15:49:00.796000'), '58', 'paid', None, None, 852, 'Augusta-Richmond County, GA-SC', '\"Mozilla/5.0 (Windows NT 6.3; WOW64) AppleWebKit/537.36 (KHTML, like Gecko) Chrome/36.0.1985.125 Safari/537.36\"']\n",
      "None\n",
      "[Timestamp('2018-11-23 15:52:34.796000'), '88', 'paid', None, None, 812, 'Sacramento--Roseville--Arden-Arcade, CA', '\"Mozilla/5.0 (Macintosh; Intel Mac OS X 10_9_4) AppleWebKit/537.36 (KHTML, like Gecko) Chrome/36.0.1985.143 Safari/537.36\"']\n",
      "None\n",
      "[Timestamp('2018-11-23 15:52:40.796000'), '58', 'paid', None, None, 852, 'Augusta-Richmond County, GA-SC', '\"Mozilla/5.0 (Windows NT 6.3; WOW64) AppleWebKit/537.36 (KHTML, like Gecko) Chrome/36.0.1985.125 Safari/537.36\"']\n",
      "None\n",
      "[Timestamp('2018-11-23 15:53:50.796000'), '88', 'paid', None, None, 812, 'Sacramento--Roseville--Arden-Arcade, CA', '\"Mozilla/5.0 (Macintosh; Intel Mac OS X 10_9_4) AppleWebKit/537.36 (KHTML, like Gecko) Chrome/36.0.1985.143 Safari/537.36\"']\n",
      "None\n",
      "[Timestamp('2018-11-23 15:54:24.796000'), '30', 'paid', None, None, 691, 'San Jose-Sunnyvale-Santa Clara, CA', 'Mozilla/5.0 (Windows NT 6.1; WOW64; rv:31.0) Gecko/20100101 Firefox/31.0']\n",
      "None\n",
      "[Timestamp('2018-11-23 15:56:47.796000'), '58', 'paid', None, None, 852, 'Augusta-Richmond County, GA-SC', '\"Mozilla/5.0 (Windows NT 6.3; WOW64) AppleWebKit/537.36 (KHTML, like Gecko) Chrome/36.0.1985.125 Safari/537.36\"']\n",
      "None\n",
      "[Timestamp('2018-11-23 15:57:30.796000'), '88', 'paid', None, None, 812, 'Sacramento--Roseville--Arden-Arcade, CA', '\"Mozilla/5.0 (Macintosh; Intel Mac OS X 10_9_4) AppleWebKit/537.36 (KHTML, like Gecko) Chrome/36.0.1985.143 Safari/537.36\"']\n",
      "None\n",
      "[Timestamp('2018-11-23 15:58:44.796000'), '30', 'paid', None, None, 691, 'San Jose-Sunnyvale-Santa Clara, CA', 'Mozilla/5.0 (Windows NT 6.1; WOW64; rv:31.0) Gecko/20100101 Firefox/31.0']\n",
      "None\n",
      "[Timestamp('2018-11-23 16:00:53.796000'), '58', 'paid', None, None, 852, 'Augusta-Richmond County, GA-SC', '\"Mozilla/5.0 (Windows NT 6.3; WOW64) AppleWebKit/537.36 (KHTML, like Gecko) Chrome/36.0.1985.125 Safari/537.36\"']\n",
      "None\n",
      "[Timestamp('2018-11-23 16:00:58.796000'), '30', 'paid', None, None, 691, 'San Jose-Sunnyvale-Santa Clara, CA', 'Mozilla/5.0 (Windows NT 6.1; WOW64; rv:31.0) Gecko/20100101 Firefox/31.0']\n",
      "None\n",
      "[Timestamp('2018-11-23 16:00:59.796000'), '17', 'free', None, None, 732, 'Chicago-Naperville-Elgin, IL-IN-WI', '\"Mozilla/5.0 (Windows NT 6.1; WOW64) AppleWebKit/537.36 (KHTML, like Gecko) Chrome/36.0.1985.125 Safari/537.36\"']\n",
      "None\n",
      "[Timestamp('2018-11-23 16:01:07.796000'), '88', 'paid', None, None, 812, 'Sacramento--Roseville--Arden-Arcade, CA', '\"Mozilla/5.0 (Macintosh; Intel Mac OS X 10_9_4) AppleWebKit/537.36 (KHTML, like Gecko) Chrome/36.0.1985.143 Safari/537.36\"']\n",
      "None\n",
      "[Timestamp('2018-11-23 16:04:35.796000'), '58', 'paid', None, None, 852, 'Augusta-Richmond County, GA-SC', '\"Mozilla/5.0 (Windows NT 6.3; WOW64) AppleWebKit/537.36 (KHTML, like Gecko) Chrome/36.0.1985.125 Safari/537.36\"']\n",
      "None\n",
      "[Timestamp('2018-11-23 16:05:27.796000'), '30', 'paid', None, None, 691, 'San Jose-Sunnyvale-Santa Clara, CA', 'Mozilla/5.0 (Windows NT 6.1; WOW64; rv:31.0) Gecko/20100101 Firefox/31.0']\n",
      "None\n",
      "[Timestamp('2018-11-23 16:07:13.796000'), '88', 'paid', None, None, 812, 'Sacramento--Roseville--Arden-Arcade, CA', '\"Mozilla/5.0 (Macintosh; Intel Mac OS X 10_9_4) AppleWebKit/537.36 (KHTML, like Gecko) Chrome/36.0.1985.143 Safari/537.36\"']\n",
      "None\n",
      "[Timestamp('2018-11-23 16:08:14.796000'), '58', 'paid', None, None, 852, 'Augusta-Richmond County, GA-SC', '\"Mozilla/5.0 (Windows NT 6.3; WOW64) AppleWebKit/537.36 (KHTML, like Gecko) Chrome/36.0.1985.125 Safari/537.36\"']\n",
      "None\n",
      "[Timestamp('2018-11-23 16:09:22.796000'), '30', 'paid', None, None, 691, 'San Jose-Sunnyvale-Santa Clara, CA', 'Mozilla/5.0 (Windows NT 6.1; WOW64; rv:31.0) Gecko/20100101 Firefox/31.0']\n",
      "None\n",
      "[Timestamp('2018-11-23 16:13:08.796000'), '58', 'paid', None, None, 852, 'Augusta-Richmond County, GA-SC', '\"Mozilla/5.0 (Windows NT 6.3; WOW64) AppleWebKit/537.36 (KHTML, like Gecko) Chrome/36.0.1985.125 Safari/537.36\"']\n",
      "None\n",
      "[Timestamp('2018-11-23 16:13:10.796000'), '30', 'paid', None, None, 691, 'San Jose-Sunnyvale-Santa Clara, CA', 'Mozilla/5.0 (Windows NT 6.1; WOW64; rv:31.0) Gecko/20100101 Firefox/31.0']\n",
      "None\n",
      "[Timestamp('2018-11-23 16:16:50.796000'), '88', 'paid', None, None, 812, 'Sacramento--Roseville--Arden-Arcade, CA', '\"Mozilla/5.0 (Macintosh; Intel Mac OS X 10_9_4) AppleWebKit/537.36 (KHTML, like Gecko) Chrome/36.0.1985.143 Safari/537.36\"']\n",
      "None\n",
      "[Timestamp('2018-11-23 16:16:52.796000'), '30', 'paid', None, None, 691, 'San Jose-Sunnyvale-Santa Clara, CA', 'Mozilla/5.0 (Windows NT 6.1; WOW64; rv:31.0) Gecko/20100101 Firefox/31.0']\n",
      "None\n",
      "[Timestamp('2018-11-23 16:17:10.796000'), '58', 'paid', None, None, 852, 'Augusta-Richmond County, GA-SC', '\"Mozilla/5.0 (Windows NT 6.3; WOW64) AppleWebKit/537.36 (KHTML, like Gecko) Chrome/36.0.1985.125 Safari/537.36\"']\n",
      "None\n",
      "[Timestamp('2018-11-23 16:20:21.796000'), '30', 'paid', None, None, 691, 'San Jose-Sunnyvale-Santa Clara, CA', 'Mozilla/5.0 (Windows NT 6.1; WOW64; rv:31.0) Gecko/20100101 Firefox/31.0']\n",
      "None\n",
      "[Timestamp('2018-11-23 16:20:52.796000'), '88', 'paid', None, None, 812, 'Sacramento--Roseville--Arden-Arcade, CA', '\"Mozilla/5.0 (Macintosh; Intel Mac OS X 10_9_4) AppleWebKit/537.36 (KHTML, like Gecko) Chrome/36.0.1985.143 Safari/537.36\"']\n",
      "None\n",
      "[Timestamp('2018-11-23 16:21:51.796000'), '58', 'paid', None, None, 852, 'Augusta-Richmond County, GA-SC', '\"Mozilla/5.0 (Windows NT 6.3; WOW64) AppleWebKit/537.36 (KHTML, like Gecko) Chrome/36.0.1985.125 Safari/537.36\"']\n",
      "None\n",
      "[Timestamp('2018-11-23 16:22:57.796000'), '30', 'paid', None, None, 691, 'San Jose-Sunnyvale-Santa Clara, CA', 'Mozilla/5.0 (Windows NT 6.1; WOW64; rv:31.0) Gecko/20100101 Firefox/31.0']\n",
      "None\n",
      "[Timestamp('2018-11-23 16:24:22.796000'), '58', 'paid', None, None, 852, 'Augusta-Richmond County, GA-SC', '\"Mozilla/5.0 (Windows NT 6.3; WOW64) AppleWebKit/537.36 (KHTML, like Gecko) Chrome/36.0.1985.125 Safari/537.36\"']\n",
      "None\n",
      "[Timestamp('2018-11-23 16:25:39.796000'), '88', 'paid', None, None, 812, 'Sacramento--Roseville--Arden-Arcade, CA', '\"Mozilla/5.0 (Macintosh; Intel Mac OS X 10_9_4) AppleWebKit/537.36 (KHTML, like Gecko) Chrome/36.0.1985.143 Safari/537.36\"']\n",
      "None\n",
      "[Timestamp('2018-11-23 16:26:02.796000'), '58', 'paid', None, None, 852, 'Augusta-Richmond County, GA-SC', '\"Mozilla/5.0 (Windows NT 6.3; WOW64) AppleWebKit/537.36 (KHTML, like Gecko) Chrome/36.0.1985.125 Safari/537.36\"']\n",
      "None\n",
      "[Timestamp('2018-11-23 16:26:29.796000'), '30', 'paid', None, None, 691, 'San Jose-Sunnyvale-Santa Clara, CA', 'Mozilla/5.0 (Windows NT 6.1; WOW64; rv:31.0) Gecko/20100101 Firefox/31.0']\n",
      "None\n",
      "[Timestamp('2018-11-23 16:29:37.796000'), '58', 'paid', None, None, 852, 'Augusta-Richmond County, GA-SC', '\"Mozilla/5.0 (Windows NT 6.3; WOW64) AppleWebKit/537.36 (KHTML, like Gecko) Chrome/36.0.1985.125 Safari/537.36\"']\n",
      "None\n",
      "[Timestamp('2018-11-23 16:30:20.796000'), '88', 'paid', None, None, 812, 'Sacramento--Roseville--Arden-Arcade, CA', '\"Mozilla/5.0 (Macintosh; Intel Mac OS X 10_9_4) AppleWebKit/537.36 (KHTML, like Gecko) Chrome/36.0.1985.143 Safari/537.36\"']\n",
      "None\n",
      "[Timestamp('2018-11-23 16:30:59.796000'), '30', 'paid', None, None, 691, 'San Jose-Sunnyvale-Santa Clara, CA', 'Mozilla/5.0 (Windows NT 6.1; WOW64; rv:31.0) Gecko/20100101 Firefox/31.0']\n",
      "None\n",
      "[Timestamp('2018-11-23 16:32:34.796000'), '88', 'paid', None, None, 812, 'Sacramento--Roseville--Arden-Arcade, CA', '\"Mozilla/5.0 (Macintosh; Intel Mac OS X 10_9_4) AppleWebKit/537.36 (KHTML, like Gecko) Chrome/36.0.1985.143 Safari/537.36\"']\n",
      "None\n",
      "[Timestamp('2018-11-23 16:33:03.796000'), '58', 'paid', None, None, 852, 'Augusta-Richmond County, GA-SC', '\"Mozilla/5.0 (Windows NT 6.3; WOW64) AppleWebKit/537.36 (KHTML, like Gecko) Chrome/36.0.1985.125 Safari/537.36\"']\n",
      "None\n",
      "[Timestamp('2018-11-23 16:34:48.796000'), '30', 'paid', None, None, 691, 'San Jose-Sunnyvale-Santa Clara, CA', 'Mozilla/5.0 (Windows NT 6.1; WOW64; rv:31.0) Gecko/20100101 Firefox/31.0']\n",
      "None\n",
      "[Timestamp('2018-11-23 16:35:35.796000'), '88', 'paid', None, None, 812, 'Sacramento--Roseville--Arden-Arcade, CA', '\"Mozilla/5.0 (Macintosh; Intel Mac OS X 10_9_4) AppleWebKit/537.36 (KHTML, like Gecko) Chrome/36.0.1985.143 Safari/537.36\"']\n",
      "None\n",
      "[Timestamp('2018-11-23 16:36:59.796000'), '58', 'paid', None, None, 852, 'Augusta-Richmond County, GA-SC', '\"Mozilla/5.0 (Windows NT 6.3; WOW64) AppleWebKit/537.36 (KHTML, like Gecko) Chrome/36.0.1985.125 Safari/537.36\"']\n",
      "None\n",
      "[Timestamp('2018-11-23 16:38:06.796000'), '30', 'paid', None, None, 691, 'San Jose-Sunnyvale-Santa Clara, CA', 'Mozilla/5.0 (Windows NT 6.1; WOW64; rv:31.0) Gecko/20100101 Firefox/31.0']\n",
      "None\n",
      "[Timestamp('2018-11-23 16:41:23.796000'), '88', 'paid', None, None, 812, 'Sacramento--Roseville--Arden-Arcade, CA', '\"Mozilla/5.0 (Macintosh; Intel Mac OS X 10_9_4) AppleWebKit/537.36 (KHTML, like Gecko) Chrome/36.0.1985.143 Safari/537.36\"']\n",
      "None\n",
      "[Timestamp('2018-11-23 16:42:35.796000'), '58', 'paid', None, None, 852, 'Augusta-Richmond County, GA-SC', '\"Mozilla/5.0 (Windows NT 6.3; WOW64) AppleWebKit/537.36 (KHTML, like Gecko) Chrome/36.0.1985.125 Safari/537.36\"']\n",
      "None\n",
      "[Timestamp('2018-11-23 16:44:59.796000'), '58', 'paid', None, None, 852, 'Augusta-Richmond County, GA-SC', '\"Mozilla/5.0 (Windows NT 6.3; WOW64) AppleWebKit/537.36 (KHTML, like Gecko) Chrome/36.0.1985.125 Safari/537.36\"']\n",
      "None\n",
      "[Timestamp('2018-11-23 16:45:50.796000'), '88', 'paid', None, None, 812, 'Sacramento--Roseville--Arden-Arcade, CA', '\"Mozilla/5.0 (Macintosh; Intel Mac OS X 10_9_4) AppleWebKit/537.36 (KHTML, like Gecko) Chrome/36.0.1985.143 Safari/537.36\"']\n",
      "None\n",
      "[Timestamp('2018-11-23 16:48:25.796000'), '58', 'paid', None, None, 852, 'Augusta-Richmond County, GA-SC', '\"Mozilla/5.0 (Windows NT 6.3; WOW64) AppleWebKit/537.36 (KHTML, like Gecko) Chrome/36.0.1985.125 Safari/537.36\"']\n",
      "None\n",
      "[Timestamp('2018-11-23 16:50:31.796000'), '58', 'paid', None, None, 852, 'Augusta-Richmond County, GA-SC', '\"Mozilla/5.0 (Windows NT 6.3; WOW64) AppleWebKit/537.36 (KHTML, like Gecko) Chrome/36.0.1985.125 Safari/537.36\"']\n",
      "None\n",
      "[Timestamp('2018-11-23 16:50:45.796000'), '88', 'paid', None, None, 812, 'Sacramento--Roseville--Arden-Arcade, CA', '\"Mozilla/5.0 (Macintosh; Intel Mac OS X 10_9_4) AppleWebKit/537.36 (KHTML, like Gecko) Chrome/36.0.1985.143 Safari/537.36\"']\n",
      "None\n",
      "[Timestamp('2018-11-23 16:54:33.796000'), '88', 'paid', None, None, 812, 'Sacramento--Roseville--Arden-Arcade, CA', '\"Mozilla/5.0 (Macintosh; Intel Mac OS X 10_9_4) AppleWebKit/537.36 (KHTML, like Gecko) Chrome/36.0.1985.143 Safari/537.36\"']\n",
      "None\n",
      "[Timestamp('2018-11-23 16:55:04.796000'), '58', 'paid', None, None, 852, 'Augusta-Richmond County, GA-SC', '\"Mozilla/5.0 (Windows NT 6.3; WOW64) AppleWebKit/537.36 (KHTML, like Gecko) Chrome/36.0.1985.125 Safari/537.36\"']\n",
      "None\n",
      "[Timestamp('2018-11-23 16:58:57.796000'), '88', 'paid', None, None, 812, 'Sacramento--Roseville--Arden-Arcade, CA', '\"Mozilla/5.0 (Macintosh; Intel Mac OS X 10_9_4) AppleWebKit/537.36 (KHTML, like Gecko) Chrome/36.0.1985.143 Safari/537.36\"']\n",
      "None\n",
      "[Timestamp('2018-11-23 16:59:02.796000'), '58', 'paid', None, None, 852, 'Augusta-Richmond County, GA-SC', '\"Mozilla/5.0 (Windows NT 6.3; WOW64) AppleWebKit/537.36 (KHTML, like Gecko) Chrome/36.0.1985.125 Safari/537.36\"']\n",
      "None\n",
      "[Timestamp('2018-11-23 17:00:55.796000'), '88', 'paid', None, None, 812, 'Sacramento--Roseville--Arden-Arcade, CA', '\"Mozilla/5.0 (Macintosh; Intel Mac OS X 10_9_4) AppleWebKit/537.36 (KHTML, like Gecko) Chrome/36.0.1985.143 Safari/537.36\"']\n",
      "None\n",
      "[Timestamp('2018-11-23 17:01:40.796000'), '58', 'paid', None, None, 852, 'Augusta-Richmond County, GA-SC', '\"Mozilla/5.0 (Windows NT 6.3; WOW64) AppleWebKit/537.36 (KHTML, like Gecko) Chrome/36.0.1985.125 Safari/537.36\"']\n",
      "None\n",
      "[Timestamp('2018-11-23 17:05:07.796000'), '88', 'paid', None, None, 812, 'Sacramento--Roseville--Arden-Arcade, CA', '\"Mozilla/5.0 (Macintosh; Intel Mac OS X 10_9_4) AppleWebKit/537.36 (KHTML, like Gecko) Chrome/36.0.1985.143 Safari/537.36\"']\n",
      "None\n",
      "[Timestamp('2018-11-23 17:08:27.796000'), '32', 'free', None, None, 885, 'New York-Newark-Jersey City, NY-NJ-PA', '\"Mozilla/5.0 (Windows NT 6.1; WOW64) AppleWebKit/537.36 (KHTML, like Gecko) Chrome/36.0.1985.125 Safari/537.36\"']\n",
      "None\n",
      "[Timestamp('2018-11-23 17:08:37.796000'), '58', 'paid', None, None, 852, 'Augusta-Richmond County, GA-SC', '\"Mozilla/5.0 (Windows NT 6.3; WOW64) AppleWebKit/537.36 (KHTML, like Gecko) Chrome/36.0.1985.125 Safari/537.36\"']\n",
      "None\n",
      "[Timestamp('2018-11-23 17:09:57.796000'), '88', 'paid', None, None, 812, 'Sacramento--Roseville--Arden-Arcade, CA', '\"Mozilla/5.0 (Macintosh; Intel Mac OS X 10_9_4) AppleWebKit/537.36 (KHTML, like Gecko) Chrome/36.0.1985.143 Safari/537.36\"']\n",
      "None\n",
      "[Timestamp('2018-11-23 17:13:12.796000'), '88', 'paid', None, None, 812, 'Sacramento--Roseville--Arden-Arcade, CA', '\"Mozilla/5.0 (Macintosh; Intel Mac OS X 10_9_4) AppleWebKit/537.36 (KHTML, like Gecko) Chrome/36.0.1985.143 Safari/537.36\"']\n",
      "None\n",
      "[Timestamp('2018-11-23 17:13:32.796000'), '32', 'free', None, None, 885, 'New York-Newark-Jersey City, NY-NJ-PA', '\"Mozilla/5.0 (Windows NT 6.1; WOW64) AppleWebKit/537.36 (KHTML, like Gecko) Chrome/36.0.1985.125 Safari/537.36\"']\n",
      "None\n",
      "[Timestamp('2018-11-23 17:14:10.796000'), '58', 'paid', None, None, 852, 'Augusta-Richmond County, GA-SC', '\"Mozilla/5.0 (Windows NT 6.3; WOW64) AppleWebKit/537.36 (KHTML, like Gecko) Chrome/36.0.1985.125 Safari/537.36\"']\n",
      "None\n",
      "[Timestamp('2018-11-23 17:15:10.796000'), '58', 'paid', None, None, 852, 'Augusta-Richmond County, GA-SC', '\"Mozilla/5.0 (Windows NT 6.3; WOW64) AppleWebKit/537.36 (KHTML, like Gecko) Chrome/36.0.1985.125 Safari/537.36\"']\n",
      "None\n",
      "[Timestamp('2018-11-23 17:16:57.796000'), '88', 'paid', None, None, 812, 'Sacramento--Roseville--Arden-Arcade, CA', '\"Mozilla/5.0 (Macintosh; Intel Mac OS X 10_9_4) AppleWebKit/537.36 (KHTML, like Gecko) Chrome/36.0.1985.143 Safari/537.36\"']\n",
      "None\n",
      "[Timestamp('2018-11-23 17:19:26.796000'), '58', 'paid', None, None, 852, 'Augusta-Richmond County, GA-SC', '\"Mozilla/5.0 (Windows NT 6.3; WOW64) AppleWebKit/537.36 (KHTML, like Gecko) Chrome/36.0.1985.125 Safari/537.36\"']\n",
      "None\n",
      "[Timestamp('2018-11-23 17:23:43.796000'), '58', 'paid', None, None, 852, 'Augusta-Richmond County, GA-SC', '\"Mozilla/5.0 (Windows NT 6.3; WOW64) AppleWebKit/537.36 (KHTML, like Gecko) Chrome/36.0.1985.125 Safari/537.36\"']\n",
      "None\n",
      "[Timestamp('2018-11-23 17:25:11.796000'), '88', 'paid', None, None, 812, 'Sacramento--Roseville--Arden-Arcade, CA', '\"Mozilla/5.0 (Macintosh; Intel Mac OS X 10_9_4) AppleWebKit/537.36 (KHTML, like Gecko) Chrome/36.0.1985.143 Safari/537.36\"']\n",
      "None\n",
      "[Timestamp('2018-11-23 17:29:09.796000'), '58', 'paid', None, None, 852, 'Augusta-Richmond County, GA-SC', '\"Mozilla/5.0 (Windows NT 6.3; WOW64) AppleWebKit/537.36 (KHTML, like Gecko) Chrome/36.0.1985.125 Safari/537.36\"']\n",
      "None\n",
      "[Timestamp('2018-11-23 17:30:05.796000'), '88', 'paid', None, None, 812, 'Sacramento--Roseville--Arden-Arcade, CA', '\"Mozilla/5.0 (Macintosh; Intel Mac OS X 10_9_4) AppleWebKit/537.36 (KHTML, like Gecko) Chrome/36.0.1985.143 Safari/537.36\"']\n",
      "None\n",
      "[Timestamp('2018-11-23 17:33:00.796000'), '58', 'paid', None, None, 852, 'Augusta-Richmond County, GA-SC', '\"Mozilla/5.0 (Windows NT 6.3; WOW64) AppleWebKit/537.36 (KHTML, like Gecko) Chrome/36.0.1985.125 Safari/537.36\"']\n",
      "None\n",
      "[Timestamp('2018-11-23 17:33:33.796000'), '88', 'paid', None, None, 812, 'Sacramento--Roseville--Arden-Arcade, CA', '\"Mozilla/5.0 (Macintosh; Intel Mac OS X 10_9_4) AppleWebKit/537.36 (KHTML, like Gecko) Chrome/36.0.1985.143 Safari/537.36\"']\n",
      "None\n",
      "[Timestamp('2018-11-23 17:37:14.796000'), '58', 'paid', None, None, 852, 'Augusta-Richmond County, GA-SC', '\"Mozilla/5.0 (Windows NT 6.3; WOW64) AppleWebKit/537.36 (KHTML, like Gecko) Chrome/36.0.1985.125 Safari/537.36\"']\n",
      "None\n",
      "[Timestamp('2018-11-23 17:38:06.796000'), '88', 'paid', None, None, 812, 'Sacramento--Roseville--Arden-Arcade, CA', '\"Mozilla/5.0 (Macintosh; Intel Mac OS X 10_9_4) AppleWebKit/537.36 (KHTML, like Gecko) Chrome/36.0.1985.143 Safari/537.36\"']\n",
      "None\n",
      "[Timestamp('2018-11-23 17:40:02.796000'), '58', 'paid', None, None, 852, 'Augusta-Richmond County, GA-SC', '\"Mozilla/5.0 (Windows NT 6.3; WOW64) AppleWebKit/537.36 (KHTML, like Gecko) Chrome/36.0.1985.125 Safari/537.36\"']\n",
      "None\n",
      "[Timestamp('2018-11-23 17:42:29.796000'), '88', 'paid', None, None, 812, 'Sacramento--Roseville--Arden-Arcade, CA', '\"Mozilla/5.0 (Macintosh; Intel Mac OS X 10_9_4) AppleWebKit/537.36 (KHTML, like Gecko) Chrome/36.0.1985.143 Safari/537.36\"']\n",
      "None\n",
      "[Timestamp('2018-11-23 17:42:35.796000'), '58', 'paid', None, None, 852, 'Augusta-Richmond County, GA-SC', '\"Mozilla/5.0 (Windows NT 6.3; WOW64) AppleWebKit/537.36 (KHTML, like Gecko) Chrome/36.0.1985.125 Safari/537.36\"']\n",
      "None\n",
      "[Timestamp('2018-11-23 17:47:19.796000'), '88', 'paid', None, None, 812, 'Sacramento--Roseville--Arden-Arcade, CA', '\"Mozilla/5.0 (Macintosh; Intel Mac OS X 10_9_4) AppleWebKit/537.36 (KHTML, like Gecko) Chrome/36.0.1985.143 Safari/537.36\"']\n",
      "None\n",
      "[Timestamp('2018-11-23 17:47:21.796000'), '58', 'paid', None, None, 852, 'Augusta-Richmond County, GA-SC', '\"Mozilla/5.0 (Windows NT 6.3; WOW64) AppleWebKit/537.36 (KHTML, like Gecko) Chrome/36.0.1985.125 Safari/537.36\"']\n",
      "None\n",
      "[Timestamp('2018-11-23 17:50:28.796000'), '88', 'paid', None, None, 812, 'Sacramento--Roseville--Arden-Arcade, CA', '\"Mozilla/5.0 (Macintosh; Intel Mac OS X 10_9_4) AppleWebKit/537.36 (KHTML, like Gecko) Chrome/36.0.1985.143 Safari/537.36\"']\n",
      "None\n",
      "[Timestamp('2018-11-23 17:51:33.796000'), '88', 'paid', None, None, 812, 'Sacramento--Roseville--Arden-Arcade, CA', '\"Mozilla/5.0 (Macintosh; Intel Mac OS X 10_9_4) AppleWebKit/537.36 (KHTML, like Gecko) Chrome/36.0.1985.143 Safari/537.36\"']\n",
      "None\n",
      "[Timestamp('2018-11-23 17:55:18.796000'), '88', 'paid', None, None, 812, 'Sacramento--Roseville--Arden-Arcade, CA', '\"Mozilla/5.0 (Macintosh; Intel Mac OS X 10_9_4) AppleWebKit/537.36 (KHTML, like Gecko) Chrome/36.0.1985.143 Safari/537.36\"']\n",
      "None\n",
      "[Timestamp('2018-11-23 17:58:48.796000'), '88', 'paid', None, None, 812, 'Sacramento--Roseville--Arden-Arcade, CA', '\"Mozilla/5.0 (Macintosh; Intel Mac OS X 10_9_4) AppleWebKit/537.36 (KHTML, like Gecko) Chrome/36.0.1985.143 Safari/537.36\"']\n",
      "None\n",
      "[Timestamp('2018-11-23 18:03:13.796000'), '88', 'paid', None, None, 812, 'Sacramento--Roseville--Arden-Arcade, CA', '\"Mozilla/5.0 (Macintosh; Intel Mac OS X 10_9_4) AppleWebKit/537.36 (KHTML, like Gecko) Chrome/36.0.1985.143 Safari/537.36\"']\n",
      "None\n",
      "[Timestamp('2018-11-23 18:11:01.796000'), '86', 'free', None, None, 869, 'La Crosse-Onalaska, WI-MN', '\"Mozilla/5.0 (Macintosh; Intel Mac OS X 10_9_4) AppleWebKit/537.36 (KHTML, like Gecko) Chrome/37.0.2062.94 Safari/537.36\"']\n",
      "None\n",
      "[Timestamp('2018-11-23 18:17:56.796000'), '86', 'free', None, None, 869, 'La Crosse-Onalaska, WI-MN', '\"Mozilla/5.0 (Macintosh; Intel Mac OS X 10_9_4) AppleWebKit/537.36 (KHTML, like Gecko) Chrome/37.0.2062.94 Safari/537.36\"']\n",
      "None\n",
      "[Timestamp('2018-11-23 18:20:07.796000'), '86', 'free', None, None, 869, 'La Crosse-Onalaska, WI-MN', '\"Mozilla/5.0 (Macintosh; Intel Mac OS X 10_9_4) AppleWebKit/537.36 (KHTML, like Gecko) Chrome/37.0.2062.94 Safari/537.36\"']\n",
      "None\n",
      "[Timestamp('2018-11-23 18:28:21.796000'), '86', 'free', None, None, 869, 'La Crosse-Onalaska, WI-MN', '\"Mozilla/5.0 (Macintosh; Intel Mac OS X 10_9_4) AppleWebKit/537.36 (KHTML, like Gecko) Chrome/37.0.2062.94 Safari/537.36\"']\n",
      "None\n",
      "[Timestamp('2018-11-23 19:17:50.796000'), '85', 'paid', None, None, 793, 'Red Bluff, CA', '\"Mozilla/5.0 (Macintosh; Intel Mac OS X 10_10_0) AppleWebKit/537.36 (KHTML, like Gecko) Chrome/36.0.1985.143 Safari/537.36\"']\n",
      "None\n",
      "[Timestamp('2018-11-23 19:18:57.796000'), '69', 'free', None, None, 858, 'Philadelphia-Camden-Wilmington, PA-NJ-DE-MD', '\"Mozilla/5.0 (Macintosh; Intel Mac OS X 10_9_4) AppleWebKit/537.36 (KHTML, like Gecko) Chrome/36.0.1985.125 Safari/537.36\"']\n",
      "None\n",
      "[Timestamp('2018-11-23 19:20:58.796000'), '85', 'paid', None, None, 793, 'Red Bluff, CA', '\"Mozilla/5.0 (Macintosh; Intel Mac OS X 10_10_0) AppleWebKit/537.36 (KHTML, like Gecko) Chrome/36.0.1985.143 Safari/537.36\"']\n",
      "None\n",
      "[Timestamp('2018-11-23 19:24:39.796000'), '85', 'paid', None, None, 793, 'Red Bluff, CA', '\"Mozilla/5.0 (Macintosh; Intel Mac OS X 10_10_0) AppleWebKit/537.36 (KHTML, like Gecko) Chrome/36.0.1985.143 Safari/537.36\"']\n",
      "None\n",
      "[Timestamp('2018-11-23 19:28:08.796000'), '85', 'paid', None, None, 793, 'Red Bluff, CA', '\"Mozilla/5.0 (Macintosh; Intel Mac OS X 10_10_0) AppleWebKit/537.36 (KHTML, like Gecko) Chrome/36.0.1985.143 Safari/537.36\"']\n",
      "None\n",
      "[Timestamp('2018-11-23 19:32:31.796000'), '85', 'paid', None, None, 793, 'Red Bluff, CA', '\"Mozilla/5.0 (Macintosh; Intel Mac OS X 10_10_0) AppleWebKit/537.36 (KHTML, like Gecko) Chrome/36.0.1985.143 Safari/537.36\"']\n",
      "None\n",
      "[Timestamp('2018-11-23 19:44:15.796000'), '85', 'paid', None, None, 891, 'Red Bluff, CA', '\"Mozilla/5.0 (Macintosh; Intel Mac OS X 10_10_0) AppleWebKit/537.36 (KHTML, like Gecko) Chrome/36.0.1985.143 Safari/537.36\"']\n",
      "None\n",
      "[Timestamp('2018-11-23 19:47:35.796000'), '85', 'paid', None, None, 891, 'Red Bluff, CA', '\"Mozilla/5.0 (Macintosh; Intel Mac OS X 10_10_0) AppleWebKit/537.36 (KHTML, like Gecko) Chrome/36.0.1985.143 Safari/537.36\"']\n",
      "None\n",
      "[Timestamp('2018-11-23 19:52:03.796000'), '85', 'paid', None, None, 891, 'Red Bluff, CA', '\"Mozilla/5.0 (Macintosh; Intel Mac OS X 10_10_0) AppleWebKit/537.36 (KHTML, like Gecko) Chrome/36.0.1985.143 Safari/537.36\"']\n",
      "None\n",
      "[Timestamp('2018-11-23 19:57:02.796000'), '85', 'paid', None, None, 891, 'Red Bluff, CA', '\"Mozilla/5.0 (Macintosh; Intel Mac OS X 10_10_0) AppleWebKit/537.36 (KHTML, like Gecko) Chrome/36.0.1985.143 Safari/537.36\"']\n",
      "None\n",
      "[Timestamp('2018-11-23 20:00:15.796000'), '85', 'paid', None, None, 891, 'Red Bluff, CA', '\"Mozilla/5.0 (Macintosh; Intel Mac OS X 10_10_0) AppleWebKit/537.36 (KHTML, like Gecko) Chrome/36.0.1985.143 Safari/537.36\"']\n",
      "None\n",
      "[Timestamp('2018-11-23 20:04:48.796000'), '85', 'paid', None, None, 891, 'Red Bluff, CA', '\"Mozilla/5.0 (Macintosh; Intel Mac OS X 10_10_0) AppleWebKit/537.36 (KHTML, like Gecko) Chrome/36.0.1985.143 Safari/537.36\"']\n",
      "None\n",
      "[Timestamp('2018-11-23 20:07:15.796000'), '85', 'paid', None, None, 891, 'Red Bluff, CA', '\"Mozilla/5.0 (Macintosh; Intel Mac OS X 10_10_0) AppleWebKit/537.36 (KHTML, like Gecko) Chrome/36.0.1985.143 Safari/537.36\"']\n",
      "None\n",
      "[Timestamp('2018-11-23 20:11:29.796000'), '85', 'paid', None, None, 891, 'Red Bluff, CA', '\"Mozilla/5.0 (Macintosh; Intel Mac OS X 10_10_0) AppleWebKit/537.36 (KHTML, like Gecko) Chrome/36.0.1985.143 Safari/537.36\"']\n",
      "None\n",
      "[Timestamp('2018-11-23 20:15:47.796000'), '85', 'paid', None, None, 891, 'Red Bluff, CA', '\"Mozilla/5.0 (Macintosh; Intel Mac OS X 10_10_0) AppleWebKit/537.36 (KHTML, like Gecko) Chrome/36.0.1985.143 Safari/537.36\"']\n",
      "None\n",
      "[Timestamp('2018-11-23 20:18:51.796000'), '85', 'paid', None, None, 891, 'Red Bluff, CA', '\"Mozilla/5.0 (Macintosh; Intel Mac OS X 10_10_0) AppleWebKit/537.36 (KHTML, like Gecko) Chrome/36.0.1985.143 Safari/537.36\"']\n",
      "None\n",
      "[Timestamp('2018-11-23 20:29:46.796000'), '85', 'paid', None, None, 891, 'Red Bluff, CA', '\"Mozilla/5.0 (Macintosh; Intel Mac OS X 10_10_0) AppleWebKit/537.36 (KHTML, like Gecko) Chrome/36.0.1985.143 Safari/537.36\"']\n",
      "None\n",
      "[Timestamp('2018-11-23 20:33:44.796000'), '85', 'paid', None, None, 891, 'Red Bluff, CA', '\"Mozilla/5.0 (Macintosh; Intel Mac OS X 10_10_0) AppleWebKit/537.36 (KHTML, like Gecko) Chrome/36.0.1985.143 Safari/537.36\"']\n",
      "None\n",
      "[Timestamp('2018-11-23 20:38:41.796000'), '85', 'paid', None, None, 891, 'Red Bluff, CA', '\"Mozilla/5.0 (Macintosh; Intel Mac OS X 10_10_0) AppleWebKit/537.36 (KHTML, like Gecko) Chrome/36.0.1985.143 Safari/537.36\"']\n",
      "None\n",
      "[Timestamp('2018-11-23 20:40:27.796000'), '86', 'free', None, None, 889, 'La Crosse-Onalaska, WI-MN', '\"Mozilla/5.0 (Macintosh; Intel Mac OS X 10_9_4) AppleWebKit/537.36 (KHTML, like Gecko) Chrome/37.0.2062.94 Safari/537.36\"']\n",
      "None\n",
      "[Timestamp('2018-11-23 20:43:42.796000'), '85', 'paid', None, None, 891, 'Red Bluff, CA', '\"Mozilla/5.0 (Macintosh; Intel Mac OS X 10_10_0) AppleWebKit/537.36 (KHTML, like Gecko) Chrome/36.0.1985.143 Safari/537.36\"']\n",
      "None\n",
      "[Timestamp('2018-11-23 20:47:18.796000'), '85', 'paid', None, None, 891, 'Red Bluff, CA', '\"Mozilla/5.0 (Macintosh; Intel Mac OS X 10_10_0) AppleWebKit/537.36 (KHTML, like Gecko) Chrome/36.0.1985.143 Safari/537.36\"']\n",
      "None\n",
      "[Timestamp('2018-11-23 20:50:30.796000'), '85', 'paid', None, None, 891, 'Red Bluff, CA', '\"Mozilla/5.0 (Macintosh; Intel Mac OS X 10_10_0) AppleWebKit/537.36 (KHTML, like Gecko) Chrome/36.0.1985.143 Safari/537.36\"']\n",
      "None\n",
      "[Timestamp('2018-11-23 20:55:28.796000'), '85', 'paid', None, None, 891, 'Red Bluff, CA', '\"Mozilla/5.0 (Macintosh; Intel Mac OS X 10_10_0) AppleWebKit/537.36 (KHTML, like Gecko) Chrome/36.0.1985.143 Safari/537.36\"']\n",
      "None\n",
      "[Timestamp('2018-11-23 20:59:18.796000'), '85', 'paid', None, None, 891, 'Red Bluff, CA', '\"Mozilla/5.0 (Macintosh; Intel Mac OS X 10_10_0) AppleWebKit/537.36 (KHTML, like Gecko) Chrome/36.0.1985.143 Safari/537.36\"']\n",
      "None\n",
      "[Timestamp('2018-11-23 21:02:33.796000'), '85', 'paid', None, None, 891, 'Red Bluff, CA', '\"Mozilla/5.0 (Macintosh; Intel Mac OS X 10_10_0) AppleWebKit/537.36 (KHTML, like Gecko) Chrome/36.0.1985.143 Safari/537.36\"']\n",
      "None\n",
      "[Timestamp('2018-11-23 21:04:22.796000'), '85', 'paid', None, None, 891, 'Red Bluff, CA', '\"Mozilla/5.0 (Macintosh; Intel Mac OS X 10_10_0) AppleWebKit/537.36 (KHTML, like Gecko) Chrome/36.0.1985.143 Safari/537.36\"']\n",
      "None\n",
      "[Timestamp('2018-11-23 21:06:07.796000'), '85', 'paid', None, None, 891, 'Red Bluff, CA', '\"Mozilla/5.0 (Macintosh; Intel Mac OS X 10_10_0) AppleWebKit/537.36 (KHTML, like Gecko) Chrome/36.0.1985.143 Safari/537.36\"']\n",
      "None\n",
      "[Timestamp('2018-11-23 21:10:42.796000'), '85', 'paid', None, None, 891, 'Red Bluff, CA', '\"Mozilla/5.0 (Macintosh; Intel Mac OS X 10_10_0) AppleWebKit/537.36 (KHTML, like Gecko) Chrome/36.0.1985.143 Safari/537.36\"']\n",
      "None\n",
      "[Timestamp('2018-11-23 21:13:56.796000'), '85', 'paid', None, None, 891, 'Red Bluff, CA', '\"Mozilla/5.0 (Macintosh; Intel Mac OS X 10_10_0) AppleWebKit/537.36 (KHTML, like Gecko) Chrome/36.0.1985.143 Safari/537.36\"']\n",
      "None\n",
      "[Timestamp('2018-11-23 21:21:12.796000'), '85', 'paid', None, None, 891, 'Red Bluff, CA', '\"Mozilla/5.0 (Macintosh; Intel Mac OS X 10_10_0) AppleWebKit/537.36 (KHTML, like Gecko) Chrome/36.0.1985.143 Safari/537.36\"']\n",
      "None\n",
      "[Timestamp('2018-11-23 21:25:15.796000'), '85', 'paid', None, None, 891, 'Red Bluff, CA', '\"Mozilla/5.0 (Macintosh; Intel Mac OS X 10_10_0) AppleWebKit/537.36 (KHTML, like Gecko) Chrome/36.0.1985.143 Safari/537.36\"']\n",
      "None\n",
      "[Timestamp('2018-11-23 21:28:21.796000'), '85', 'paid', None, None, 891, 'Red Bluff, CA', '\"Mozilla/5.0 (Macintosh; Intel Mac OS X 10_10_0) AppleWebKit/537.36 (KHTML, like Gecko) Chrome/36.0.1985.143 Safari/537.36\"']\n",
      "None\n",
      "[Timestamp('2018-11-23 21:37:30.796000'), '85', 'paid', None, None, 891, 'Red Bluff, CA', '\"Mozilla/5.0 (Macintosh; Intel Mac OS X 10_10_0) AppleWebKit/537.36 (KHTML, like Gecko) Chrome/36.0.1985.143 Safari/537.36\"']\n",
      "None\n",
      "[Timestamp('2018-11-23 21:39:49.796000'), '85', 'paid', None, None, 891, 'Red Bluff, CA', '\"Mozilla/5.0 (Macintosh; Intel Mac OS X 10_10_0) AppleWebKit/537.36 (KHTML, like Gecko) Chrome/36.0.1985.143 Safari/537.36\"']\n",
      "None\n",
      "[Timestamp('2018-11-23 21:42:09.796000'), '85', 'paid', None, None, 891, 'Red Bluff, CA', '\"Mozilla/5.0 (Macintosh; Intel Mac OS X 10_10_0) AppleWebKit/537.36 (KHTML, like Gecko) Chrome/36.0.1985.143 Safari/537.36\"']\n",
      "None\n",
      "[Timestamp('2018-11-23 23:08:48.796000'), '47', 'free', None, None, 488, 'New York-Newark-Jersey City, NY-NJ-PA', '\"Mozilla/5.0 (Macintosh; Intel Mac OS X 10_9_4) AppleWebKit/537.78.2 (KHTML, like Gecko) Version/7.0.6 Safari/537.78.2\"']\n"
     ]
    }
   ],
   "source": [
    "for index, row in df.iterrows():\n",
    "\n",
    "    # get songid and artistid from song and artist tables\n",
    "    cur.execute(song_select, (row.song, row.artist, str(row.length)))\n",
    "    results = cur.fetchone()\n",
    "    print(results)\n",
    "    \n",
    "    if results:\n",
    "        songid, artistid = results\n",
    "    else:\n",
    "        songid, artistid = None, None\n",
    "\n",
    "    # insert songplay record\n",
    "    songplay_data = [pd.to_datetime(row.ts, unit='ms'), row.userId, row.level, songid, artistid, row.sessionId, row.location, row.userAgent]\n",
    "    print(songplay_data)\n",
    "    cur.execute(songplay_table_insert, songplay_data)\n",
    "    conn.commit()"
   ]
  },
  {
   "cell_type": "markdown",
   "metadata": {},
   "source": [
    "Run `test.ipynb` to see if you've successfully added records to this table."
   ]
  },
  {
   "cell_type": "markdown",
   "metadata": {},
   "source": [
    "# Close Connection to Sparkify Database"
   ]
  },
  {
   "cell_type": "code",
   "execution_count": 28,
   "metadata": {
    "ExecuteTime": {
     "end_time": "2021-01-31T18:56:08.837736Z",
     "start_time": "2021-01-31T18:56:08.834530Z"
    }
   },
   "outputs": [],
   "source": [
    "conn.close()"
   ]
  },
  {
   "cell_type": "markdown",
   "metadata": {},
   "source": [
    "# Implement `etl.py`\n",
    "Use what you've completed in this notebook to implement `etl.py`."
   ]
  },
  {
   "cell_type": "code",
   "execution_count": null,
   "metadata": {},
   "outputs": [],
   "source": []
  }
 ],
 "metadata": {
  "hide_input": false,
  "kernelspec": {
   "display_name": "Python 3",
   "language": "python",
   "name": "python3"
  },
  "language_info": {
   "codemirror_mode": {
    "name": "ipython",
    "version": 3
   },
   "file_extension": ".py",
   "mimetype": "text/x-python",
   "name": "python",
   "nbconvert_exporter": "python",
   "pygments_lexer": "ipython3",
   "version": "3.7.3"
  },
  "toc": {
   "base_numbering": 1,
   "nav_menu": {},
   "number_sections": true,
   "sideBar": true,
   "skip_h1_title": false,
   "title_cell": "Table of Contents",
   "title_sidebar": "Contents",
   "toc_cell": false,
   "toc_position": {},
   "toc_section_display": true,
   "toc_window_display": false
  },
  "varInspector": {
   "cols": {
    "lenName": 16,
    "lenType": 16,
    "lenVar": 40
   },
   "kernels_config": {
    "python": {
     "delete_cmd_postfix": "",
     "delete_cmd_prefix": "del ",
     "library": "var_list.py",
     "varRefreshCmd": "print(var_dic_list())"
    },
    "r": {
     "delete_cmd_postfix": ") ",
     "delete_cmd_prefix": "rm(",
     "library": "var_list.r",
     "varRefreshCmd": "cat(var_dic_list()) "
    }
   },
   "types_to_exclude": [
    "module",
    "function",
    "builtin_function_or_method",
    "instance",
    "_Feature"
   ],
   "window_display": false
  }
 },
 "nbformat": 4,
 "nbformat_minor": 2
}
